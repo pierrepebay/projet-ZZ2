{
 "cells": [
  {
   "attachments": {},
   "cell_type": "markdown",
   "metadata": {},
   "source": [
    "<h1>Backtest a technical indicator"
   ]
  },
  {
   "attachments": {},
   "cell_type": "markdown",
   "metadata": {},
   "source": [
    "<h3>Install the necessary packages"
   ]
  },
  {
   "cell_type": "code",
   "execution_count": 24,
   "metadata": {},
   "outputs": [
    {
     "name": "stdout",
     "output_type": "stream",
     "text": [
      "Requirement already satisfied: python-binance in /home/ibenchek/.local/lib/python3.8/site-packages (1.0.16)\n",
      "Requirement already satisfied: ujson in /home/ibenchek/.local/lib/python3.8/site-packages (from python-binance) (5.6.0)\n",
      "Requirement already satisfied: dateparser in /home/ibenchek/.local/lib/python3.8/site-packages (from python-binance) (1.1.4)\n",
      "Requirement already satisfied: requests in /home/ibenchek/.local/lib/python3.8/site-packages (from python-binance) (2.28.2)\n",
      "Requirement already satisfied: websockets in /home/ibenchek/.local/lib/python3.8/site-packages (from python-binance) (10.4)\n",
      "Requirement already satisfied: six in /usr/lib/python3/dist-packages (from python-binance) (1.14.0)\n",
      "Requirement already satisfied: aiohttp in /home/ibenchek/.local/lib/python3.8/site-packages (from python-binance) (3.8.3)\n",
      "Requirement already satisfied: pytz in /home/ibenchek/.local/lib/python3.8/site-packages (from dateparser->python-binance) (2022.6)\n",
      "Requirement already satisfied: python-dateutil in /home/ibenchek/.local/lib/python3.8/site-packages (from dateparser->python-binance) (2.8.2)\n",
      "Requirement already satisfied: tzlocal in /home/ibenchek/.local/lib/python3.8/site-packages (from dateparser->python-binance) (4.2)\n",
      "Requirement already satisfied: regex!=2019.02.19,!=2021.8.27 in /home/ibenchek/.local/lib/python3.8/site-packages (from dateparser->python-binance) (2022.10.31)\n",
      "Requirement already satisfied: certifi>=2017.4.17 in /usr/lib/python3/dist-packages (from requests->python-binance) (2019.11.28)\n",
      "Requirement already satisfied: urllib3<1.27,>=1.21.1 in /usr/lib/python3/dist-packages (from requests->python-binance) (1.25.8)\n",
      "Requirement already satisfied: idna<4,>=2.5 in /usr/lib/python3/dist-packages (from requests->python-binance) (2.8)\n",
      "Requirement already satisfied: charset-normalizer<4,>=2 in /home/ibenchek/.local/lib/python3.8/site-packages (from requests->python-binance) (2.1.1)\n",
      "Requirement already satisfied: yarl<2.0,>=1.0 in /home/ibenchek/.local/lib/python3.8/site-packages (from aiohttp->python-binance) (1.8.2)\n",
      "Requirement already satisfied: attrs>=17.3.0 in /usr/lib/python3/dist-packages (from aiohttp->python-binance) (19.3.0)\n",
      "Requirement already satisfied: async-timeout<5.0,>=4.0.0a3 in /home/ibenchek/.local/lib/python3.8/site-packages (from aiohttp->python-binance) (4.0.2)\n",
      "Requirement already satisfied: frozenlist>=1.1.1 in /home/ibenchek/.local/lib/python3.8/site-packages (from aiohttp->python-binance) (1.3.3)\n",
      "Requirement already satisfied: aiosignal>=1.1.2 in /home/ibenchek/.local/lib/python3.8/site-packages (from aiohttp->python-binance) (1.3.1)\n",
      "Requirement already satisfied: multidict<7.0,>=4.5 in /home/ibenchek/.local/lib/python3.8/site-packages (from aiohttp->python-binance) (6.0.3)\n",
      "Requirement already satisfied: backports.zoneinfo; python_version < \"3.9\" in /home/ibenchek/.local/lib/python3.8/site-packages (from tzlocal->dateparser->python-binance) (0.2.1)\n",
      "Requirement already satisfied: pytz-deprecation-shim in /home/ibenchek/.local/lib/python3.8/site-packages (from tzlocal->dateparser->python-binance) (0.1.0.post0)\n",
      "Requirement already satisfied: tzdata; python_version >= \"3.6\" in /home/ibenchek/.local/lib/python3.8/site-packages (from pytz-deprecation-shim->tzlocal->dateparser->python-binance) (2022.7)\n"
     ]
    }
   ],
   "source": [
    "! pip install python-binance"
   ]
  },
  {
   "cell_type": "code",
   "execution_count": 25,
   "metadata": {},
   "outputs": [
    {
     "name": "stdout",
     "output_type": "stream",
     "text": [
      "Requirement already satisfied: ta in /home/ibenchek/.local/lib/python3.8/site-packages (0.10.2)\n",
      "Requirement already satisfied: numpy in /home/ibenchek/.local/lib/python3.8/site-packages (from ta) (1.23.5)\n",
      "Requirement already satisfied: pandas in /home/ibenchek/.local/lib/python3.8/site-packages (from ta) (1.5.2)\n",
      "Requirement already satisfied: pytz>=2020.1 in /home/ibenchek/.local/lib/python3.8/site-packages (from pandas->ta) (2022.6)\n",
      "Requirement already satisfied: python-dateutil>=2.8.1 in /home/ibenchek/.local/lib/python3.8/site-packages (from pandas->ta) (2.8.2)\n",
      "Requirement already satisfied: six>=1.5 in /usr/lib/python3/dist-packages (from python-dateutil>=2.8.1->pandas->ta) (1.14.0)\n"
     ]
    }
   ],
   "source": [
    "! pip install ta"
   ]
  },
  {
   "attachments": {},
   "cell_type": "markdown",
   "metadata": {},
   "source": [
    "<h3>Import des libraries necessaire"
   ]
  },
  {
   "cell_type": "code",
   "execution_count": 34,
   "metadata": {},
   "outputs": [],
   "source": [
    "import pandas as pd\n",
    "from binance.client import Client\n",
    "import ta\n",
    "import numpy as np\n",
    "import matplotlib.pyplot as plt"
   ]
  },
  {
   "attachments": {},
   "cell_type": "markdown",
   "metadata": {},
   "source": [
    "<h3>Importer les donnees de la libraries binance"
   ]
  },
  {
   "cell_type": "code",
   "execution_count": 130,
   "metadata": {},
   "outputs": [],
   "source": [
    "historicalData = Client().get_historical_klines(\"BTCUSDT\",Client.KLINE_INTERVAL_1HOUR,\"01 January 2017\")\n",
    "data = pd.DataFrame(historicalData, columns = ['timestamp', 'open','high','low','close','volume','close_time','quote_av','trades','tb_base_av','tb_quote_av','ignore'])"
   ]
  },
  {
   "attachments": {},
   "cell_type": "markdown",
   "metadata": {},
   "source": [
    "<h3> Manipulate the data"
   ]
  },
  {
   "attachments": {},
   "cell_type": "markdown",
   "metadata": {},
   "source": [
    "<h4> Select the data to use"
   ]
  },
  {
   "cell_type": "code",
   "execution_count": 131,
   "metadata": {},
   "outputs": [],
   "source": [
    "data['close'] = pd.to_numeric(data['close'])\n",
    "data['SMA200'] = ta.trend.sma_indicator(data['close'], 200)\n",
    "data['SMA600'] = ta.trend.sma_indicator(data['close'], 600)"
   ]
  },
  {
   "attachments": {},
   "cell_type": "markdown",
   "metadata": {},
   "source": [
    "<h4> Use the Timestamp as an index"
   ]
  },
  {
   "cell_type": "code",
   "execution_count": 132,
   "metadata": {},
   "outputs": [
    {
     "data": {
      "text/html": [
       "<div>\n",
       "<style scoped>\n",
       "    .dataframe tbody tr th:only-of-type {\n",
       "        vertical-align: middle;\n",
       "    }\n",
       "\n",
       "    .dataframe tbody tr th {\n",
       "        vertical-align: top;\n",
       "    }\n",
       "\n",
       "    .dataframe thead th {\n",
       "        text-align: right;\n",
       "    }\n",
       "</style>\n",
       "<table border=\"1\" class=\"dataframe\">\n",
       "  <thead>\n",
       "    <tr style=\"text-align: right;\">\n",
       "      <th></th>\n",
       "      <th>close</th>\n",
       "      <th>SMA200</th>\n",
       "      <th>SMA600</th>\n",
       "    </tr>\n",
       "    <tr>\n",
       "      <th>timestamp</th>\n",
       "      <th></th>\n",
       "      <th></th>\n",
       "      <th></th>\n",
       "    </tr>\n",
       "  </thead>\n",
       "  <tbody>\n",
       "    <tr>\n",
       "      <th>2017-08-17 04:00:00</th>\n",
       "      <td>4308.83</td>\n",
       "      <td>NaN</td>\n",
       "      <td>NaN</td>\n",
       "    </tr>\n",
       "    <tr>\n",
       "      <th>2017-08-17 05:00:00</th>\n",
       "      <td>4315.32</td>\n",
       "      <td>NaN</td>\n",
       "      <td>NaN</td>\n",
       "    </tr>\n",
       "    <tr>\n",
       "      <th>2017-08-17 06:00:00</th>\n",
       "      <td>4324.35</td>\n",
       "      <td>NaN</td>\n",
       "      <td>NaN</td>\n",
       "    </tr>\n",
       "    <tr>\n",
       "      <th>2017-08-17 07:00:00</th>\n",
       "      <td>4349.99</td>\n",
       "      <td>NaN</td>\n",
       "      <td>NaN</td>\n",
       "    </tr>\n",
       "    <tr>\n",
       "      <th>2017-08-17 08:00:00</th>\n",
       "      <td>4360.69</td>\n",
       "      <td>NaN</td>\n",
       "      <td>NaN</td>\n",
       "    </tr>\n",
       "  </tbody>\n",
       "</table>\n",
       "</div>"
      ],
      "text/plain": [
       "                       close  SMA200  SMA600\n",
       "timestamp                                   \n",
       "2017-08-17 04:00:00  4308.83     NaN     NaN\n",
       "2017-08-17 05:00:00  4315.32     NaN     NaN\n",
       "2017-08-17 06:00:00  4324.35     NaN     NaN\n",
       "2017-08-17 07:00:00  4349.99     NaN     NaN\n",
       "2017-08-17 08:00:00  4360.69     NaN     NaN"
      ]
     },
     "execution_count": 132,
     "metadata": {},
     "output_type": "execute_result"
    }
   ],
   "source": [
    "data_used = data[['close','SMA200', 'SMA600']].set_index(data['timestamp'])\n",
    "data_used.index = pd.to_datetime(data_used.index, unit = 'ms')\n",
    "data_used.head()"
   ]
  },
  {
   "attachments": {},
   "cell_type": "markdown",
   "metadata": {},
   "source": [
    "<h3> Implement the trading strategy based on moving average"
   ]
  },
  {
   "cell_type": "code",
   "execution_count": 136,
   "metadata": {},
   "outputs": [
    {
     "name": "stdout",
     "output_type": "stream",
     "text": [
      "Buy the bitcoin  4176.24 $ at 2017-09-11 10:00:00\n",
      "Sell the bitcoin  4259.44 $ at 2017-09-12 13:00:00\n",
      "Buy the bitcoin  4302.02 $ at 2017-10-01 08:00:00\n",
      "Sell the bitcoin  16351.02 $ at 2017-12-27 05:00:00\n",
      "Buy the bitcoin  14219.61 $ at 2018-01-10 06:00:00\n",
      "Sell the bitcoin  14195.0 $ at 2018-01-15 12:00:00\n",
      "Buy the bitcoin  11082.94 $ at 2018-02-19 18:00:00\n",
      "Sell the bitcoin  8704.0 $ at 2018-03-11 07:00:00\n",
      "Buy the bitcoin  8018.98 $ at 2018-04-16 21:00:00\n",
      "Sell the bitcoin  8665.97 $ at 2018-05-14 00:00:00\n",
      "Buy the bitcoin  6584.36 $ at 2018-07-07 10:00:00\n",
      "Sell the bitcoin  7087.99 $ at 2018-08-07 11:00:00\n",
      "Buy the bitcoin  6902.74 $ at 2018-08-28 04:00:00\n",
      "Sell the bitcoin  6355.0 $ at 2018-09-11 03:00:00\n",
      "Buy the bitcoin  6669.36 $ at 2018-09-27 19:00:00\n",
      "Sell the bitcoin  6309.02 $ at 2018-10-12 22:00:00\n",
      "Buy the bitcoin  6573.58 $ at 2018-10-20 10:00:00\n",
      "Sell the bitcoin  6491.85 $ at 2018-10-28 10:00:00\n",
      "Buy the bitcoin  4125.4 $ at 2018-12-24 04:00:00\n",
      "Sell the bitcoin  3588.24 $ at 2019-01-13 02:00:00\n",
      "Buy the bitcoin  3626.58 $ at 2019-02-12 04:00:00\n",
      "Sell the bitcoin  7660.98 $ at 2019-06-09 18:00:00\n",
      "Buy the bitcoin  9105.21 $ at 2019-06-17 06:00:00\n",
      "Sell the bitcoin  9431.52 $ at 2019-07-17 04:00:00\n",
      "Buy the bitcoin  11692.8 $ at 2019-08-06 01:00:00\n",
      "Sell the bitcoin  10886.0 $ at 2019-08-20 01:00:00\n",
      "Buy the bitcoin  10541.4 $ at 2019-09-08 03:00:00\n",
      "Sell the bitcoin  10028.87 $ at 2019-09-22 23:00:00\n",
      "Buy the bitcoin  9660.0 $ at 2019-10-27 17:00:00\n",
      "Sell the bitcoin  8564.64 $ at 2019-11-15 05:00:00\n",
      "Buy the bitcoin  7206.3 $ at 2019-12-27 00:00:00\n",
      "Sell the bitcoin  9601.09 $ at 2020-02-24 19:00:00\n",
      "Buy the bitcoin  6368.68 $ at 2020-04-01 03:00:00\n",
      "Sell the bitcoin  8859.62 $ at 2020-05-27 04:00:00\n",
      "Buy the bitcoin  10115.56 $ at 2020-06-02 11:00:00\n",
      "Sell the bitcoin  9403.01 $ at 2020-06-18 13:00:00\n",
      "Buy the bitcoin  9290.23 $ at 2020-07-13 18:00:00\n",
      "Sell the bitcoin  9117.69 $ at 2020-07-17 10:00:00\n",
      "Buy the bitcoin  9164.57 $ at 2020-07-18 16:00:00\n",
      "Sell the bitcoin  11400.12 $ at 2020-08-27 01:00:00\n",
      "Buy the bitcoin  10417.22 $ at 2020-09-21 23:00:00\n",
      "Sell the bitcoin  10571.36 $ at 2020-10-06 19:00:00\n",
      "Buy the bitcoin  11363.33 $ at 2020-10-10 18:00:00\n",
      "Sell the bitcoin  32801.15 $ at 2021-01-24 07:00:00\n",
      "Buy the bitcoin  37366.02 $ at 2021-02-05 03:00:00\n",
      "Sell the bitcoin  47789.87 $ at 2021-03-02 22:00:00\n",
      "Buy the bitcoin  54632.79 $ at 2021-03-10 08:00:00\n",
      "Sell the bitcoin  57854.32 $ at 2021-03-29 11:00:00\n",
      "Buy the bitcoin  58670.64 $ at 2021-04-02 20:00:00\n",
      "Sell the bitcoin  54744.24 $ at 2021-04-22 14:00:00\n",
      "Buy the bitcoin  57584.01 $ at 2021-05-07 19:00:00\n",
      "Sell the bitcoin  47964.69 $ at 2021-05-15 22:00:00\n",
      "Buy the bitcoin  39952.7 $ at 2021-06-16 09:00:00\n",
      "Sell the bitcoin  33982.26 $ at 2021-06-23 07:00:00\n",
      "Buy the bitcoin  38242.96 $ at 2021-07-27 14:00:00\n",
      "Sell the bitcoin  45150.33 $ at 2021-09-12 06:00:00\n",
      "Buy the bitcoin  49476.51 $ at 2021-10-05 07:00:00\n",
      "Sell the bitcoin  56989.77 $ at 2021-11-19 09:00:00\n",
      "Buy the bitcoin  51450.57 $ at 2021-12-27 15:00:00\n",
      "Sell the bitcoin  46999.98 $ at 2022-01-03 02:00:00\n",
      "Buy the bitcoin  44065.25 $ at 2022-02-07 18:00:00\n",
      "Sell the bitcoin  38137.91 $ at 2022-02-23 00:00:00\n",
      "Buy the bitcoin  39387.57 $ at 2022-03-06 07:00:00\n",
      "Sell the bitcoin  39316.99 $ at 2022-03-10 21:00:00\n",
      "Buy the bitcoin  41062.31 $ at 2022-03-17 05:00:00\n",
      "Sell the bitcoin  40776.38 $ at 2022-03-17 17:00:00\n",
      "Buy the bitcoin  42191.28 $ at 2022-03-19 20:00:00\n",
      "Sell the bitcoin  40803.87 $ at 2022-04-11 14:00:00\n",
      "Buy the bitcoin  30425.0 $ at 2022-06-03 04:00:00\n",
      "Sell the bitcoin  27932.6 $ at 2022-06-12 16:00:00\n",
      "Buy the bitcoin  20987.27 $ at 2022-07-10 20:00:00\n",
      "Sell the bitcoin  21229.52 $ at 2022-08-21 05:00:00\n",
      "Buy the bitcoin  20246.35 $ at 2022-09-13 18:00:00\n",
      "Sell the bitcoin  18766.83 $ at 2022-09-20 17:00:00\n",
      "Buy the bitcoin  19973.75 $ at 2022-10-07 08:00:00\n",
      "Sell the bitcoin  19187.86 $ at 2022-10-15 04:00:00\n",
      "Buy the bitcoin  20719.26 $ at 2022-10-27 06:00:00\n",
      "Sell the bitcoin  18108.48 $ at 2022-11-10 20:00:00\n",
      "Buy the bitcoin  16934.23 $ at 2022-12-03 20:00:00\n",
      "Sell the bitcoin  16591.96 $ at 2022-12-22 17:00:00\n",
      "Buy the bitcoin  17205.95 $ at 2023-01-09 05:00:00\n",
      "\n",
      "The number of Long & Short : 81\n"
     ]
    }
   ],
   "source": [
    "# Start with 1000 USDT and 0 BTC\n",
    "\n",
    "usdt = 1000\n",
    "btc = 0\n",
    "lastIndex = data_used.first_valid_index()\n",
    "dates = []\n",
    "price = []\n",
    "i = 0\n",
    "\n",
    "for index, row in data_used.iterrows() :\n",
    "    # Buy when SMA_200 > SMA_600\n",
    "    if data_used['SMA200'][lastIndex] > data_used['SMA600'][lastIndex] and usdt > 10 :\n",
    "        btc = usdt / data_used['close'][index]\n",
    "        btc = btc - 0.0007 * btc  \n",
    "        usdt = 0\n",
    "        \n",
    "        print(\"Buy the bitcoin \", data_used['close'][index],'$ at', index)\n",
    "        dates.append(index)\n",
    "        price.append(data_used['close'][index])\n",
    "        i+=1\n",
    "\n",
    "    # Sell when SMA_200 < SMA_600    \n",
    "    if data_used['SMA200'][lastIndex] < data_used['SMA600'][lastIndex] and btc > 0.0001 :\n",
    "        usdt = btc * data_used['close'][index]\n",
    "        usdt = usdt - 0.0007 * usdt \n",
    "        btc = 0\n",
    "        \n",
    "        print(\"Sell the bitcoin \", data_used['close'][index],'$ at', index)\n",
    "        dates.append(index)\n",
    "        price.append(data_used['close'][index])\n",
    "        i+=1\n",
    "    \n",
    "    lastIndex = index\n",
    "\n",
    "print(\"\\nThe number of Long & Short :\",i)"
   ]
  },
  {
   "attachments": {},
   "cell_type": "markdown",
   "metadata": {},
   "source": [
    "<h3> The total win obtained with this strategy"
   ]
  },
  {
   "cell_type": "code",
   "execution_count": 123,
   "metadata": {},
   "outputs": [
    {
     "name": "stdout",
     "output_type": "stream",
     "text": [
      "Final Result : 23003.21756624284 USDT\n"
     ]
    }
   ],
   "source": [
    "finalResult = usdt + btc * data_used['close'].iloc[-1] \n",
    "print(\"Final Result :\",finalResult,'USDT')"
   ]
  },
  {
   "cell_type": "code",
   "execution_count": 124,
   "metadata": {},
   "outputs": [
    {
     "name": "stdout",
     "output_type": "stream",
     "text": [
      "Buy at the first date and sell at the last date \n",
      "Final Result : 5312.56048625729 USDT\n"
     ]
    }
   ],
   "source": [
    "print(\"Buy at the first date and sell at the last date \\nFinal Result :\", (1000 / data_used['close'].iloc[0]) * data_used['close'].iloc[-1],'USDT')"
   ]
  },
  {
   "attachments": {},
   "cell_type": "markdown",
   "metadata": {},
   "source": [
    "<h3> The growth of Bitcoins"
   ]
  },
  {
   "cell_type": "code",
   "execution_count": 128,
   "metadata": {},
   "outputs": [
    {
     "data": {
      "image/png": "[encoded data removed]",
      "text/plain": [
       "<Figure size 640x480 with 1 Axes>"
      ]
     },
     "metadata": {},
     "output_type": "display_data"
    }
   ],
   "source": [
    "plt.title(\"Moving Average\")\n",
    "plt.xlabel(\"dates\")\n",
    "plt.ylabel(\"price BTC\")\n",
    "\n",
    "plt.plot(dates,price)\n",
    "plt.show()"
   ]
  }
 ],
 "metadata": {
  "kernelspec": {
   "display_name": "Python 3",
   "language": "python",
   "name": "python3"
  },
  "language_info": {
   "codemirror_mode": {
    "name": "ipython",
    "version": 3
   },
   "file_extension": ".py",
   "mimetype": "text/x-python",
   "name": "python",
   "nbconvert_exporter": "python",
   "pygments_lexer": "ipython3",
   "version": "3.8.10"
  },
  "orig_nbformat": 4,
  "vscode": {
   "interpreter": {
    "hash": "916dbcbb3f70747c44a77c7bcd40155683ae19c65e1c03b4aa3499c5328201f1"
   }
  }
 },
 "nbformat": 4,
 "nbformat_minor": 2
}
