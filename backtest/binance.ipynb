{
 "cells": [
  {
   "attachments": {},
   "cell_type": "markdown",
   "metadata": {},
   "source": [
    "<h1>Backtest a technical indicator"
   ]
  },
  {
   "attachments": {},
   "cell_type": "markdown",
   "metadata": {},
   "source": [
    "<h3>Install the necessary packages"
   ]
  },
  {
   "cell_type": "code",
   "execution_count": 24,
   "metadata": {},
   "outputs": [
    {
     "name": "stdout",
     "output_type": "stream",
     "text": [
      "Requirement already satisfied: python-binance in /home/ibenchek/.local/lib/python3.8/site-packages (1.0.16)\n",
      "Requirement already satisfied: ujson in /home/ibenchek/.local/lib/python3.8/site-packages (from python-binance) (5.6.0)\n",
      "Requirement already satisfied: dateparser in /home/ibenchek/.local/lib/python3.8/site-packages (from python-binance) (1.1.4)\n",
      "Requirement already satisfied: requests in /home/ibenchek/.local/lib/python3.8/site-packages (from python-binance) (2.28.2)\n",
      "Requirement already satisfied: websockets in /home/ibenchek/.local/lib/python3.8/site-packages (from python-binance) (10.4)\n",
      "Requirement already satisfied: six in /usr/lib/python3/dist-packages (from python-binance) (1.14.0)\n",
      "Requirement already satisfied: aiohttp in /home/ibenchek/.local/lib/python3.8/site-packages (from python-binance) (3.8.3)\n",
      "Requirement already satisfied: pytz in /home/ibenchek/.local/lib/python3.8/site-packages (from dateparser->python-binance) (2022.6)\n",
      "Requirement already satisfied: python-dateutil in /home/ibenchek/.local/lib/python3.8/site-packages (from dateparser->python-binance) (2.8.2)\n",
      "Requirement already satisfied: tzlocal in /home/ibenchek/.local/lib/python3.8/site-packages (from dateparser->python-binance) (4.2)\n",
      "Requirement already satisfied: regex!=2019.02.19,!=2021.8.27 in /home/ibenchek/.local/lib/python3.8/site-packages (from dateparser->python-binance) (2022.10.31)\n",
      "Requirement already satisfied: certifi>=2017.4.17 in /usr/lib/python3/dist-packages (from requests->python-binance) (2019.11.28)\n",
      "Requirement already satisfied: urllib3<1.27,>=1.21.1 in /usr/lib/python3/dist-packages (from requests->python-binance) (1.25.8)\n",
      "Requirement already satisfied: idna<4,>=2.5 in /usr/lib/python3/dist-packages (from requests->python-binance) (2.8)\n",
      "Requirement already satisfied: charset-normalizer<4,>=2 in /home/ibenchek/.local/lib/python3.8/site-packages (from requests->python-binance) (2.1.1)\n",
      "Requirement already satisfied: yarl<2.0,>=1.0 in /home/ibenchek/.local/lib/python3.8/site-packages (from aiohttp->python-binance) (1.8.2)\n",
      "Requirement already satisfied: attrs>=17.3.0 in /usr/lib/python3/dist-packages (from aiohttp->python-binance) (19.3.0)\n",
      "Requirement already satisfied: async-timeout<5.0,>=4.0.0a3 in /home/ibenchek/.local/lib/python3.8/site-packages (from aiohttp->python-binance) (4.0.2)\n",
      "Requirement already satisfied: frozenlist>=1.1.1 in /home/ibenchek/.local/lib/python3.8/site-packages (from aiohttp->python-binance) (1.3.3)\n",
      "Requirement already satisfied: aiosignal>=1.1.2 in /home/ibenchek/.local/lib/python3.8/site-packages (from aiohttp->python-binance) (1.3.1)\n",
      "Requirement already satisfied: multidict<7.0,>=4.5 in /home/ibenchek/.local/lib/python3.8/site-packages (from aiohttp->python-binance) (6.0.3)\n",
      "Requirement already satisfied: backports.zoneinfo; python_version < \"3.9\" in /home/ibenchek/.local/lib/python3.8/site-packages (from tzlocal->dateparser->python-binance) (0.2.1)\n",
      "Requirement already satisfied: pytz-deprecation-shim in /home/ibenchek/.local/lib/python3.8/site-packages (from tzlocal->dateparser->python-binance) (0.1.0.post0)\n",
      "Requirement already satisfied: tzdata; python_version >= \"3.6\" in /home/ibenchek/.local/lib/python3.8/site-packages (from pytz-deprecation-shim->tzlocal->dateparser->python-binance) (2022.7)\n"
     ]
    }
   ],
   "source": [
    "! pip install python-binance"
   ]
  },
  {
   "cell_type": "code",
   "execution_count": 25,
   "metadata": {},
   "outputs": [
    {
     "name": "stdout",
     "output_type": "stream",
     "text": [
      "Requirement already satisfied: ta in /home/ibenchek/.local/lib/python3.8/site-packages (0.10.2)\n",
      "Requirement already satisfied: numpy in /home/ibenchek/.local/lib/python3.8/site-packages (from ta) (1.23.5)\n",
      "Requirement already satisfied: pandas in /home/ibenchek/.local/lib/python3.8/site-packages (from ta) (1.5.2)\n",
      "Requirement already satisfied: pytz>=2020.1 in /home/ibenchek/.local/lib/python3.8/site-packages (from pandas->ta) (2022.6)\n",
      "Requirement already satisfied: python-dateutil>=2.8.1 in /home/ibenchek/.local/lib/python3.8/site-packages (from pandas->ta) (2.8.2)\n",
      "Requirement already satisfied: six>=1.5 in /usr/lib/python3/dist-packages (from python-dateutil>=2.8.1->pandas->ta) (1.14.0)\n"
     ]
    }
   ],
   "source": [
    "! pip install ta"
   ]
  },
  {
   "attachments": {},
   "cell_type": "markdown",
   "metadata": {},
   "source": [
    "<h3>Import the necessary libraries"
   ]
  },
  {
   "cell_type": "code",
   "execution_count": 1,
   "metadata": {},
   "outputs": [],
   "source": [
    "import pandas as pd\n",
    "from binance.client import Client\n",
    "import ta\n",
    "import numpy as np\n",
    "import matplotlib.pyplot as plt"
   ]
  },
  {
   "attachments": {},
   "cell_type": "markdown",
   "metadata": {},
   "source": [
    "<h3>Import data from binance"
   ]
  },
  {
   "cell_type": "code",
   "execution_count": 2,
   "metadata": {},
   "outputs": [],
   "source": [
    "historicalData = Client().get_historical_klines(\"BTCUSDT\",Client.KLINE_INTERVAL_1HOUR,\"01 January 2017\")\n",
    "data = pd.DataFrame(historicalData, columns = ['timestamp', 'open','high','low','close','volume','close_time','quote_av','trades','tb_base_av','tb_quote_av','ignore'])"
   ]
  },
  {
   "attachments": {},
   "cell_type": "markdown",
   "metadata": {},
   "source": [
    "<h3> Manipulate the data"
   ]
  },
  {
   "attachments": {},
   "cell_type": "markdown",
   "metadata": {},
   "source": [
    "<h4> Select the usefull data"
   ]
  },
  {
   "cell_type": "code",
   "execution_count": 3,
   "metadata": {},
   "outputs": [],
   "source": [
    "data['close'] = pd.to_numeric(data['close'])\n",
    "data['SMA200'] = ta.trend.sma_indicator(data['close'], 200)\n",
    "data['SMA600'] = ta.trend.sma_indicator(data['close'], 600)"
   ]
  },
  {
   "attachments": {},
   "cell_type": "markdown",
   "metadata": {},
   "source": [
    "<h4> Use the Timestamp as an index"
   ]
  },
  {
   "cell_type": "code",
   "execution_count": 4,
   "metadata": {},
   "outputs": [
    {
     "data": {
      "text/html": [
       "<div>\n",
       "<style scoped>\n",
       "    .dataframe tbody tr th:only-of-type {\n",
       "        vertical-align: middle;\n",
       "    }\n",
       "\n",
       "    .dataframe tbody tr th {\n",
       "        vertical-align: top;\n",
       "    }\n",
       "\n",
       "    .dataframe thead th {\n",
       "        text-align: right;\n",
       "    }\n",
       "</style>\n",
       "<table border=\"1\" class=\"dataframe\">\n",
       "  <thead>\n",
       "    <tr style=\"text-align: right;\">\n",
       "      <th></th>\n",
       "      <th>close</th>\n",
       "      <th>SMA200</th>\n",
       "      <th>SMA600</th>\n",
       "    </tr>\n",
       "    <tr>\n",
       "      <th>timestamp</th>\n",
       "      <th></th>\n",
       "      <th></th>\n",
       "      <th></th>\n",
       "    </tr>\n",
       "  </thead>\n",
       "  <tbody>\n",
       "    <tr>\n",
       "      <th>2017-08-17 04:00:00</th>\n",
       "      <td>4308.83</td>\n",
       "      <td>NaN</td>\n",
       "      <td>NaN</td>\n",
       "    </tr>\n",
       "    <tr>\n",
       "      <th>2017-08-17 05:00:00</th>\n",
       "      <td>4315.32</td>\n",
       "      <td>NaN</td>\n",
       "      <td>NaN</td>\n",
       "    </tr>\n",
       "    <tr>\n",
       "      <th>2017-08-17 06:00:00</th>\n",
       "      <td>4324.35</td>\n",
       "      <td>NaN</td>\n",
       "      <td>NaN</td>\n",
       "    </tr>\n",
       "    <tr>\n",
       "      <th>2017-08-17 07:00:00</th>\n",
       "      <td>4349.99</td>\n",
       "      <td>NaN</td>\n",
       "      <td>NaN</td>\n",
       "    </tr>\n",
       "    <tr>\n",
       "      <th>2017-08-17 08:00:00</th>\n",
       "      <td>4360.69</td>\n",
       "      <td>NaN</td>\n",
       "      <td>NaN</td>\n",
       "    </tr>\n",
       "  </tbody>\n",
       "</table>\n",
       "</div>"
      ],
      "text/plain": [
       "                       close  SMA200  SMA600\n",
       "timestamp                                   \n",
       "2017-08-17 04:00:00  4308.83     NaN     NaN\n",
       "2017-08-17 05:00:00  4315.32     NaN     NaN\n",
       "2017-08-17 06:00:00  4324.35     NaN     NaN\n",
       "2017-08-17 07:00:00  4349.99     NaN     NaN\n",
       "2017-08-17 08:00:00  4360.69     NaN     NaN"
      ]
     },
     "execution_count": 4,
     "metadata": {},
     "output_type": "execute_result"
    }
   ],
   "source": [
    "data_used = data[['close','SMA200', 'SMA600']].set_index(data['timestamp'])\n",
    "data_used.index = pd.to_datetime(data_used.index, unit = 'ms')\n",
    "data_used.head()"
   ]
  },
  {
   "attachments": {},
   "cell_type": "markdown",
   "metadata": {},
   "source": [
    "<h3> Implement the trading strategy based on moving average"
   ]
  },
  {
   "cell_type": "code",
   "execution_count": 6,
   "metadata": {},
   "outputs": [
    {
     "name": "stdout",
     "output_type": "stream",
     "text": [
      "\n",
      "The number of Long : 41\n",
      "\n",
      "The number of Short : 41\n"
     ]
    }
   ],
   "source": [
    "# Start with 1000 USDT and 0 BTC\n",
    "\n",
    "usdt = 1000\n",
    "btc = 0\n",
    "lastIndex = data_used.first_valid_index()\n",
    "dates = []\n",
    "price = []\n",
    "Long = 0\n",
    "Short = 0\n",
    "\n",
    "for index, row in data_used.iterrows() :\n",
    "    # Buy when SMA_200 > SMA_600\n",
    "    if data_used['SMA200'][lastIndex] > data_used['SMA600'][lastIndex] and usdt > 10 :\n",
    "        btc = usdt / data_used['close'][index]\n",
    "        btc = btc - 0.0007 * btc  \n",
    "        usdt = 0\n",
    "        \n",
    "        #print(\"Buy the bitcoin \", data_used['close'][index],'$ at', index)\n",
    "        dates.append(index)\n",
    "        price.append(data_used['close'][index])\n",
    "        Long+=1\n",
    "\n",
    "    # Sell when SMA_200 < SMA_600    \n",
    "    if data_used['SMA200'][lastIndex] < data_used['SMA600'][lastIndex] and btc > 0.0001 :\n",
    "        usdt = btc * data_used['close'][index]\n",
    "        usdt = usdt - 0.0007 * usdt \n",
    "        btc = 0\n",
    "        \n",
    "        #print(\"Sell the bitcoin \", data_used['close'][index],'$ at', index)\n",
    "        \n",
    "        dates.append(index)\n",
    "        price.append(data_used['close'][index])\n",
    "        Short+=1\n",
    "    \n",
    "    lastIndex = index\n",
    "\n",
    "print(\"\\nThe number of Long :\",Long)\n",
    "print(\"\\nThe number of Short :\",Short)"
   ]
  },
  {
   "attachments": {},
   "cell_type": "markdown",
   "metadata": {},
   "source": [
    "<h3> The total win obtained with this strategy"
   ]
  },
  {
   "cell_type": "code",
   "execution_count": 8,
   "metadata": {},
   "outputs": [
    {
     "name": "stdout",
     "output_type": "stream",
     "text": [
      "Final Result : 21908.049694888734 USDT\n"
     ]
    }
   ],
   "source": [
    "finalResult = usdt + btc * data_used['close'].iloc[-1] \n",
    "print(\"Final Result :\",finalResult,'USDT')"
   ]
  },
  {
   "attachments": {},
   "cell_type": "markdown",
   "metadata": {},
   "source": [
    "<h3>The win obtained if we buy the Bitcoin at the first date and sell at the last date"
   ]
  },
  {
   "cell_type": "code",
   "execution_count": 9,
   "metadata": {},
   "outputs": [
    {
     "name": "stdout",
     "output_type": "stream",
     "text": [
      "Final Result : 5078.341452320004 USDT\n"
     ]
    }
   ],
   "source": [
    "print(\"Final Result :\", (1000 / data_used['close'].iloc[0]) * data_used['close'].iloc[-1],'USDT')"
   ]
  },
  {
   "attachments": {},
   "cell_type": "markdown",
   "metadata": {},
   "source": [
    "<h3> The growth of Bitcoins"
   ]
  },
  {
   "cell_type": "code",
   "execution_count": 10,
   "metadata": {},
   "outputs": [
    {
     "data": {
      "image/png": "[encoded data removed]",
      "text/plain": [
       "<Figure size 640x480 with 1 Axes>"
      ]
     },
     "metadata": {},
     "output_type": "display_data"
    }
   ],
   "source": [
    "plt.title(\"Moving Average\")\n",
    "plt.xlabel(\"dates\")\n",
    "plt.ylabel(\"price BTC\")\n",
    "\n",
    "plt.plot(dates,price)\n",
    "plt.show()"
   ]
  }
 ],
 "metadata": {
  "kernelspec": {
   "display_name": "Python 3",
   "language": "python",
   "name": "python3"
  },
  "language_info": {
   "codemirror_mode": {
    "name": "ipython",
    "version": 3
   },
   "file_extension": ".py",
   "mimetype": "text/x-python",
   "name": "python",
   "nbconvert_exporter": "python",
   "pygments_lexer": "ipython3",
   "version": "3.8.10"
  },
  "orig_nbformat": 4,
  "vscode": {
   "interpreter": {
    "hash": "916dbcbb3f70747c44a77c7bcd40155683ae19c65e1c03b4aa3499c5328201f1"
   }
  }
 },
 "nbformat": 4,
 "nbformat_minor": 2
}
