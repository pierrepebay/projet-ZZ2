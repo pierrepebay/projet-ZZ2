{
 "cells": [
  {
   "cell_type": "code",
   "execution_count": 1,
   "metadata": {},
   "outputs": [
    {
     "name": "stdout",
     "output_type": "stream",
     "text": [
      "Requirement already satisfied: yfinance in /home/ibenchek/.local/lib/python3.8/site-packages (0.2.4)\n",
      "Requirement already satisfied: requests>=2.26 in /home/ibenchek/.local/lib/python3.8/site-packages (from yfinance) (2.28.2)\n",
      "Requirement already satisfied: frozendict>=2.3.4 in /home/ibenchek/.local/lib/python3.8/site-packages (from yfinance) (2.3.4)\n",
      "Requirement already satisfied: cryptography>=3.3.2 in /home/ibenchek/.local/lib/python3.8/site-packages (from yfinance) (39.0.0)\n",
      "Requirement already satisfied: pandas>=1.3.0 in /home/ibenchek/.local/lib/python3.8/site-packages (from yfinance) (1.5.2)\n",
      "Requirement already satisfied: multitasking>=0.0.7 in /home/ibenchek/.local/lib/python3.8/site-packages (from yfinance) (0.0.11)\n",
      "Requirement already satisfied: html5lib>=1.1 in /home/ibenchek/.local/lib/python3.8/site-packages (from yfinance) (1.1)\n",
      "Requirement already satisfied: lxml>=4.9.1 in /home/ibenchek/.local/lib/python3.8/site-packages (from yfinance) (4.9.2)\n",
      "Requirement already satisfied: numpy>=1.16.5 in /home/ibenchek/.local/lib/python3.8/site-packages (from yfinance) (1.23.5)\n",
      "Requirement already satisfied: pytz>=2022.5 in /home/ibenchek/.local/lib/python3.8/site-packages (from yfinance) (2022.6)\n",
      "Requirement already satisfied: appdirs>=1.4.4 in /home/ibenchek/.local/lib/python3.8/site-packages (from yfinance) (1.4.4)\n",
      "Requirement already satisfied: beautifulsoup4>=4.11.1 in /home/ibenchek/.local/lib/python3.8/site-packages (from yfinance) (4.11.1)\n",
      "Requirement already satisfied: urllib3<1.27,>=1.21.1 in /usr/lib/python3/dist-packages (from requests>=2.26->yfinance) (1.25.8)\n",
      "Requirement already satisfied: idna<4,>=2.5 in /usr/lib/python3/dist-packages (from requests>=2.26->yfinance) (2.8)\n",
      "Requirement already satisfied: certifi>=2017.4.17 in /usr/lib/python3/dist-packages (from requests>=2.26->yfinance) (2019.11.28)\n",
      "Requirement already satisfied: charset-normalizer<4,>=2 in /home/ibenchek/.local/lib/python3.8/site-packages (from requests>=2.26->yfinance) (2.1.1)\n",
      "Requirement already satisfied: cffi>=1.12 in /home/ibenchek/.local/lib/python3.8/site-packages (from cryptography>=3.3.2->yfinance) (1.15.1)\n",
      "Requirement already satisfied: python-dateutil>=2.8.1 in /home/ibenchek/.local/lib/python3.8/site-packages (from pandas>=1.3.0->yfinance) (2.8.2)\n",
      "Requirement already satisfied: six>=1.9 in /usr/lib/python3/dist-packages (from html5lib>=1.1->yfinance) (1.14.0)\n",
      "Requirement already satisfied: webencodings in /home/ibenchek/.local/lib/python3.8/site-packages (from html5lib>=1.1->yfinance) (0.5.1)\n",
      "Requirement already satisfied: soupsieve>1.2 in /home/ibenchek/.local/lib/python3.8/site-packages (from beautifulsoup4>=4.11.1->yfinance) (2.3.2.post1)\n",
      "Requirement already satisfied: pycparser in /home/ibenchek/.local/lib/python3.8/site-packages (from cffi>=1.12->cryptography>=3.3.2->yfinance) (2.21)\n"
     ]
    }
   ],
   "source": [
    "! pip install yfinance"
   ]
  },
  {
   "cell_type": "code",
   "execution_count": 2,
   "metadata": {},
   "outputs": [],
   "source": [
    "import numpy as np\n",
    "from sklearn.metrics import accuracy_score\n",
    "import numba\n",
    "import pandas as pd\n",
    "import random\n",
    "from datetime import datetime, timezone, timedelta\n",
    "from enum import Enum\n",
    "from typing import List, Tuple, Dict, Any\n",
    "import matplotlib.pyplot as plt\n",
    "import pytz\n",
    "import requests\n",
    "from DataImportfromYf import DataImportfromYf\n",
    "from Classes import Frequency, Position, Config, PositionType, Weight, BaseWeightComputation\n",
    "from model_validation import get_train_val_test_idx_rolling, get_train_val_test_idx_regular\n",
    "from Features import add_return, binarize_label, standardize_feat_basket\n",
    "from keras.layers import LSTM, Dense, Dropout, Input, BatchNormalization \n",
    "from keras.models import load_model, model_from_json, Sequential, Model\n",
    "from keras.callbacks import EarlyStopping\n",
    "from keras.utils import plot_model\n",
    "from keras.optimizers import Adam\n",
    "from keras.initializers import RandomUniform, GlorotUniform, GlorotNormal\n",
    "from LSTM_model import LongShortTermMemory\n",
    "from Backtest_classes import PositionGenerator, Backtester\n"
   ]
  },
  {
   "attachments": {},
   "cell_type": "markdown",
   "metadata": {},
   "source": [
    "# Data Loading \n",
    "Define the universe, the time range and interval considered (2002-05-01 To 2020-01-01)"
   ]
  },
  {
   "cell_type": "code",
   "execution_count": 4,
   "metadata": {},
   "outputs": [
    {
     "name": "stdout",
     "output_type": "stream",
     "text": [
      "[*********************100%***********************]  28 of 28 completed\n"
     ]
    }
   ],
   "source": [
    "universe = [\"GETI-B.ST\", \"ATCO-A.ST\", \"VOLV-B.ST\", \"TEL2-B.ST\", \"ELUX-B.ST\", \"TELIA.ST\", \"HM-B.ST\", \"SKA-B.ST\", \n",
    "            \"ALFA.ST\", \"ERIC-B.ST\", \"SKF-B.ST\", \"SAND.ST\", \"AZN.ST\", \"SECU-B.ST\", \"INVE-B.ST\", \"ABB.ST\", \n",
    "            \"SEB-A.ST\", \"SHB-A.ST\", \"SCA-B.ST\", \"SSAB-A.ST\", \"ASSA-B.ST\", \"ALIV-SDB.ST\", \"HEXA-B.ST\", \n",
    "            \"SWED-A.ST\", \"ATCO-B.ST\", \"KINV-B.ST\", \"BOL.ST\", \"NDA-SE.ST\"]\n",
    "start_date = datetime(2002, 5, 1)\n",
    "end_date = datetime(2020, 1, 1)\n",
    "interval = \"1d\"\n",
    "\n",
    "obj = DataImportfromYf(universe=universe, start_ts=start_date, end_ts=end_date, interval=interval, ignore_tz=True)\n",
    "data = obj.get_data()"
   ]
  },
  {
   "cell_type": "code",
   "execution_count": 5,
   "metadata": {},
   "outputs": [
    {
     "data": {
      "text/html": [
       "<div>\n",
       "<style scoped>\n",
       "    .dataframe tbody tr th:only-of-type {\n",
       "        vertical-align: middle;\n",
       "    }\n",
       "\n",
       "    .dataframe tbody tr th {\n",
       "        vertical-align: top;\n",
       "    }\n",
       "\n",
       "    .dataframe thead th {\n",
       "        text-align: right;\n",
       "    }\n",
       "</style>\n",
       "<table border=\"1\" class=\"dataframe\">\n",
       "  <thead>\n",
       "    <tr style=\"text-align: right;\">\n",
       "      <th></th>\n",
       "      <th></th>\n",
       "      <th>adj_close</th>\n",
       "      <th>close</th>\n",
       "      <th>high</th>\n",
       "      <th>low</th>\n",
       "      <th>open</th>\n",
       "      <th>volume</th>\n",
       "    </tr>\n",
       "    <tr>\n",
       "      <th>ts</th>\n",
       "      <th>symbol</th>\n",
       "      <th></th>\n",
       "      <th></th>\n",
       "      <th></th>\n",
       "      <th></th>\n",
       "      <th></th>\n",
       "      <th></th>\n",
       "    </tr>\n",
       "  </thead>\n",
       "  <tbody>\n",
       "    <tr>\n",
       "      <th rowspan=\"5\" valign=\"top\">2002-05-01</th>\n",
       "      <th>ABB.ST</th>\n",
       "      <td>68.324242</td>\n",
       "      <td>73.443237</td>\n",
       "      <td>73.443237</td>\n",
       "      <td>73.443237</td>\n",
       "      <td>73.443237</td>\n",
       "      <td>0.0</td>\n",
       "    </tr>\n",
       "    <tr>\n",
       "      <th>ALIV-SDB.ST</th>\n",
       "      <td>190.604477</td>\n",
       "      <td>228.500000</td>\n",
       "      <td>228.500000</td>\n",
       "      <td>228.500000</td>\n",
       "      <td>228.500000</td>\n",
       "      <td>0.0</td>\n",
       "    </tr>\n",
       "    <tr>\n",
       "      <th>ATCO-A.ST</th>\n",
       "      <td>3.608177</td>\n",
       "      <td>7.640396</td>\n",
       "      <td>7.640396</td>\n",
       "      <td>7.640396</td>\n",
       "      <td>7.640396</td>\n",
       "      <td>0.0</td>\n",
       "    </tr>\n",
       "    <tr>\n",
       "      <th>ATCO-B.ST</th>\n",
       "      <td>3.110864</td>\n",
       "      <td>7.141966</td>\n",
       "      <td>7.141966</td>\n",
       "      <td>7.141966</td>\n",
       "      <td>7.141966</td>\n",
       "      <td>0.0</td>\n",
       "    </tr>\n",
       "    <tr>\n",
       "      <th>AZN.ST</th>\n",
       "      <td>402.793365</td>\n",
       "      <td>482.000000</td>\n",
       "      <td>482.000000</td>\n",
       "      <td>482.000000</td>\n",
       "      <td>482.000000</td>\n",
       "      <td>0.0</td>\n",
       "    </tr>\n",
       "  </tbody>\n",
       "</table>\n",
       "</div>"
      ],
      "text/plain": [
       "                         adj_close       close        high         low  \\\n",
       "ts         symbol                                                        \n",
       "2002-05-01 ABB.ST        68.324242   73.443237   73.443237   73.443237   \n",
       "           ALIV-SDB.ST  190.604477  228.500000  228.500000  228.500000   \n",
       "           ATCO-A.ST      3.608177    7.640396    7.640396    7.640396   \n",
       "           ATCO-B.ST      3.110864    7.141966    7.141966    7.141966   \n",
       "           AZN.ST       402.793365  482.000000  482.000000  482.000000   \n",
       "\n",
       "                              open  volume  \n",
       "ts         symbol                           \n",
       "2002-05-01 ABB.ST        73.443237     0.0  \n",
       "           ALIV-SDB.ST  228.500000     0.0  \n",
       "           ATCO-A.ST      7.640396     0.0  \n",
       "           ATCO-B.ST      7.141966     0.0  \n",
       "           AZN.ST       482.000000     0.0  "
      ]
     },
     "execution_count": 5,
     "metadata": {},
     "output_type": "execute_result"
    }
   ],
   "source": [
    "data.head(5)"
   ]
  },
  {
   "attachments": {},
   "cell_type": "markdown",
   "metadata": {},
   "source": [
    "## Data cleaning"
   ]
  },
  {
   "cell_type": "code",
   "execution_count": 6,
   "metadata": {},
   "outputs": [
    {
     "data": {
      "text/html": [
       "<div>\n",
       "<style scoped>\n",
       "    .dataframe tbody tr th:only-of-type {\n",
       "        vertical-align: middle;\n",
       "    }\n",
       "\n",
       "    .dataframe tbody tr th {\n",
       "        vertical-align: top;\n",
       "    }\n",
       "\n",
       "    .dataframe thead th {\n",
       "        text-align: right;\n",
       "    }\n",
       "</style>\n",
       "<table border=\"1\" class=\"dataframe\">\n",
       "  <thead>\n",
       "    <tr style=\"text-align: right;\">\n",
       "      <th></th>\n",
       "      <th></th>\n",
       "      <th>adj_close</th>\n",
       "      <th>close</th>\n",
       "      <th>high</th>\n",
       "      <th>low</th>\n",
       "      <th>open</th>\n",
       "      <th>volume</th>\n",
       "    </tr>\n",
       "    <tr>\n",
       "      <th>ts</th>\n",
       "      <th>symbol</th>\n",
       "      <th></th>\n",
       "      <th></th>\n",
       "      <th></th>\n",
       "      <th></th>\n",
       "      <th></th>\n",
       "      <th></th>\n",
       "    </tr>\n",
       "  </thead>\n",
       "  <tbody>\n",
       "  </tbody>\n",
       "</table>\n",
       "</div>"
      ],
      "text/plain": [
       "Empty DataFrame\n",
       "Columns: [adj_close, close, high, low, open, volume]\n",
       "Index: []"
      ]
     },
     "execution_count": 6,
     "metadata": {},
     "output_type": "execute_result"
    }
   ],
   "source": [
    "# Are they any missing values ?\n",
    "data[data.isnull().any(axis=1)]"
   ]
  },
  {
   "attachments": {},
   "cell_type": "markdown",
   "metadata": {},
   "source": [
    "<h3> Add past, future returns and target"
   ]
  },
  {
   "cell_type": "code",
   "execution_count": 7,
   "metadata": {},
   "outputs": [],
   "source": [
    "# Past Returns\n",
    "data = add_return(data, target=\"close\", deltas=[1], by=\"symbol\",disable_tqdm=True)\n",
    "# Futur Returns\n",
    "data = add_return(data, target=\"close\", deltas=[-1], by=\"symbol\",disable_tqdm=True)"
   ]
  },
  {
   "cell_type": "code",
   "execution_count": 8,
   "metadata": {},
   "outputs": [],
   "source": [
    "# Drop useless data\n",
    "data = data.dropna(subset=[\"past_ret_1D_close\",\"fut_ret_1D_close\"])"
   ]
  },
  {
   "cell_type": "code",
   "execution_count": 9,
   "metadata": {},
   "outputs": [
    {
     "name": "stderr",
     "output_type": "stream",
     "text": [
      "/home/ibenchek/projet/projet-ZZ2/LSTM/Features.py:75: FutureWarning: Not prepending group keys to the result index of transform-like apply. In the future, the group keys will be included in the index, regardless of whether the applied function returns a like-indexed object.\n",
      "To preserve the previous behavior, use\n",
      "\n",
      "\t>>> .groupby(..., group_keys=False)\n",
      "\n",
      "To adopt the future behavior and silence this warning, use \n",
      "\n",
      "\t>>> .groupby(..., group_keys=True)\n",
      "  data = data.groupby(\"ts\").apply(lambda df: pd.Series((df > df.median()).astype(int), index=df.index))\n"
     ]
    }
   ],
   "source": [
    "# Target feature (y_label)\n",
    "label_name = \"fut_ret_1D_close\"\n",
    "label_fit = data[label_name]\n",
    "label_fit = binarize_label(data=label_fit)"
   ]
  },
  {
   "cell_type": "code",
   "execution_count": 10,
   "metadata": {},
   "outputs": [],
   "source": [
    "data = standardize_feat_basket(data=data, features_names=[\"past_ret_1D_close\"], by=[\"ts\"])"
   ]
  },
  {
   "cell_type": "code",
   "execution_count": 11,
   "metadata": {},
   "outputs": [
    {
     "data": {
      "text/plain": [
       "891"
      ]
     },
     "execution_count": 11,
     "metadata": {},
     "output_type": "execute_result"
    }
   ],
   "source": [
    "len(data[data.isnull().any(axis=1)])"
   ]
  },
  {
   "cell_type": "code",
   "execution_count": 12,
   "metadata": {},
   "outputs": [],
   "source": [
    "# Dropna introtuced by the standardization process\n",
    "data = data.dropna(subset=[\"past_ret_1D_close\",\"fut_ret_1D_close\"])"
   ]
  }
 ],
 "metadata": {
  "kernelspec": {
   "display_name": "Python 3",
   "language": "python",
   "name": "python3"
  },
  "language_info": {
   "codemirror_mode": {
    "name": "ipython",
    "version": 3
   },
   "file_extension": ".py",
   "mimetype": "text/x-python",
   "name": "python",
   "nbconvert_exporter": "python",
   "pygments_lexer": "ipython3",
   "version": "3.8.10"
  },
  "orig_nbformat": 4,
  "vscode": {
   "interpreter": {
    "hash": "916dbcbb3f70747c44a77c7bcd40155683ae19c65e1c03b4aa3499c5328201f1"
   }
  }
 },
 "nbformat": 4,
 "nbformat_minor": 2
}
