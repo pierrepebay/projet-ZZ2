{
  "cells": [
    {
      "cell_type": "code",
      "execution_count": 1,
      "metadata": {
        "colab": {
          "base_uri": "https://localhost:8080/"
        },
        "id": "_HJJPkZu18EM",
        "outputId": "8a737abf-5265-4856-9313-34cb28979261"
      },
      "outputs": [
        {
          "name": "stdout",
          "output_type": "stream",
          "text": [
            "Requirement already satisfied: yfinance in /home/ibenchek/.local/lib/python3.8/site-packages (0.2.4)\n",
            "Requirement already satisfied: cryptography>=3.3.2 in /home/ibenchek/.local/lib/python3.8/site-packages (from yfinance) (39.0.0)\n",
            "Requirement already satisfied: frozendict>=2.3.4 in /home/ibenchek/.local/lib/python3.8/site-packages (from yfinance) (2.3.4)\n",
            "Requirement already satisfied: html5lib>=1.1 in /home/ibenchek/.local/lib/python3.8/site-packages (from yfinance) (1.1)\n",
            "Requirement already satisfied: beautifulsoup4>=4.11.1 in /home/ibenchek/.local/lib/python3.8/site-packages (from yfinance) (4.11.1)\n",
            "Requirement already satisfied: requests>=2.26 in /home/ibenchek/.local/lib/python3.8/site-packages (from yfinance) (2.28.2)\n",
            "Requirement already satisfied: pandas>=1.3.0 in /home/ibenchek/.local/lib/python3.8/site-packages (from yfinance) (1.5.2)\n",
            "Requirement already satisfied: appdirs>=1.4.4 in /home/ibenchek/.local/lib/python3.8/site-packages (from yfinance) (1.4.4)\n",
            "Requirement already satisfied: lxml>=4.9.1 in /home/ibenchek/.local/lib/python3.8/site-packages (from yfinance) (4.9.2)\n",
            "Requirement already satisfied: pytz>=2022.5 in /home/ibenchek/.local/lib/python3.8/site-packages (from yfinance) (2022.6)\n",
            "Requirement already satisfied: multitasking>=0.0.7 in /home/ibenchek/.local/lib/python3.8/site-packages (from yfinance) (0.0.11)\n",
            "Requirement already satisfied: numpy>=1.16.5 in /home/ibenchek/.local/lib/python3.8/site-packages (from yfinance) (1.23.5)\n",
            "Requirement already satisfied: cffi>=1.12 in /home/ibenchek/.local/lib/python3.8/site-packages (from cryptography>=3.3.2->yfinance) (1.15.1)\n",
            "Requirement already satisfied: six>=1.9 in /usr/lib/python3/dist-packages (from html5lib>=1.1->yfinance) (1.14.0)\n",
            "Requirement already satisfied: webencodings in /home/ibenchek/.local/lib/python3.8/site-packages (from html5lib>=1.1->yfinance) (0.5.1)\n",
            "Requirement already satisfied: soupsieve>1.2 in /home/ibenchek/.local/lib/python3.8/site-packages (from beautifulsoup4>=4.11.1->yfinance) (2.3.2.post1)\n",
            "Requirement already satisfied: idna<4,>=2.5 in /usr/lib/python3/dist-packages (from requests>=2.26->yfinance) (2.8)\n",
            "Requirement already satisfied: charset-normalizer<4,>=2 in /home/ibenchek/.local/lib/python3.8/site-packages (from requests>=2.26->yfinance) (2.1.1)\n",
            "Requirement already satisfied: urllib3<1.27,>=1.21.1 in /usr/lib/python3/dist-packages (from requests>=2.26->yfinance) (1.25.8)\n",
            "Requirement already satisfied: certifi>=2017.4.17 in /usr/lib/python3/dist-packages (from requests>=2.26->yfinance) (2019.11.28)\n",
            "Requirement already satisfied: python-dateutil>=2.8.1 in /home/ibenchek/.local/lib/python3.8/site-packages (from pandas>=1.3.0->yfinance) (2.8.2)\n",
            "Requirement already satisfied: pycparser in /home/ibenchek/.local/lib/python3.8/site-packages (from cffi>=1.12->cryptography>=3.3.2->yfinance) (2.21)\n"
          ]
        }
      ],
      "source": [
        "! pip install yfinance"
      ]
    },
    {
      "cell_type": "code",
      "execution_count": 2,
      "metadata": {
        "id": "IXU2TGfL06WL"
      },
      "outputs": [
        {
          "name": "stderr",
          "output_type": "stream",
          "text": [
            "2023-01-31 16:13:49.409778: I tensorflow/core/platform/cpu_feature_guard.cc:193] This TensorFlow binary is optimized with oneAPI Deep Neural Network Library (oneDNN) to use the following CPU instructions in performance-critical operations:  AVX2 AVX512F AVX512_VNNI FMA\n",
            "To enable them in other operations, rebuild TensorFlow with the appropriate compiler flags.\n",
            "2023-01-31 16:13:52.541163: I tensorflow/core/util/port.cc:104] oneDNN custom operations are on. You may see slightly different numerical results due to floating-point round-off errors from different computation orders. To turn them off, set the environment variable `TF_ENABLE_ONEDNN_OPTS=0`.\n",
            "2023-01-31 16:13:52.946840: W tensorflow/compiler/xla/stream_executor/platform/default/dso_loader.cc:64] Could not load dynamic library 'libcudart.so.11.0'; dlerror: libcudart.so.11.0: cannot open shared object file: No such file or directory\n",
            "2023-01-31 16:13:52.946957: I tensorflow/compiler/xla/stream_executor/cuda/cudart_stub.cc:29] Ignore above cudart dlerror if you do not have a GPU set up on your machine.\n",
            "2023-01-31 16:14:13.666325: W tensorflow/compiler/xla/stream_executor/platform/default/dso_loader.cc:64] Could not load dynamic library 'libnvinfer.so.7'; dlerror: libnvinfer.so.7: cannot open shared object file: No such file or directory\n",
            "2023-01-31 16:14:13.668869: W tensorflow/compiler/xla/stream_executor/platform/default/dso_loader.cc:64] Could not load dynamic library 'libnvinfer_plugin.so.7'; dlerror: libnvinfer_plugin.so.7: cannot open shared object file: No such file or directory\n",
            "2023-01-31 16:14:13.669031: W tensorflow/compiler/tf2tensorrt/utils/py_utils.cc:38] TF-TRT Warning: Cannot dlopen some TensorRT libraries. If you would like to use Nvidia GPU with TensorRT, please make sure the missing libraries mentioned above are installed properly.\n"
          ]
        }
      ],
      "source": [
        "import numpy as np\n",
        "from sklearn.metrics import accuracy_score\n",
        "import numba\n",
        "import pandas as pd\n",
        "import random\n",
        "from datetime import datetime, timezone, timedelta\n",
        "from enum import Enum\n",
        "from typing import List, Tuple, Dict, Any\n",
        "import matplotlib.pyplot as plt\n",
        "import pytz\n",
        "import requests\n",
        "from DataImportfromYf import DataImportfromYf\n",
        "from Classes import Frequency, Position, Config, PositionType, Weight, BaseWeightComputation\n",
        "from model_validation import get_train_val_test_idx_rolling, get_train_val_test_idx_regular\n",
        "from Features import add_return, binarize_label, standardize_feat_regular, standardize_feat_basket\n",
        "from keras.layers import LSTM\n",
        "from keras.callbacks import EarlyStopping\n",
        "from keras.models import load_model\n",
        "from keras.models import Sequential\n",
        "from keras.layers import Dense, Dropout\n",
        "from keras.layers import Input, BatchNormalization\n",
        "from keras.utils import plot_model\n",
        "from keras.models import Model\n",
        "from keras.optimizers import Adam\n",
        "from keras.initializers import RandomUniform, GlorotUniform, GlorotNormal\n",
        "from keras.models import load_model, model_from_json\n",
        "from LSTM_model import LongShortTermMemory\n",
        "from Backtest_classes import PositionGenerator, Backtester"
      ]
    },
    {
      "attachments": {},
      "cell_type": "markdown",
      "metadata": {
        "id": "il1bYcEI06WO"
      },
      "source": [
        "# Data Loading & Wrangling\n",
        "Define the universe, the time range and interval considered (2002-05-01 To 2020-01-01).\n",
        "\n",
        "The constituents taken are the same as the ones defined (constituents of OMXS30 in Feb 2020)"
      ]
    },
    {
      "cell_type": "code",
      "execution_count": 3,
      "metadata": {
        "colab": {
          "base_uri": "https://localhost:8080/"
        },
        "id": "oeyxXgZU06WR",
        "outputId": "8a5e31b6-dac3-4f4d-e770-ff2bc53c1449"
      },
      "outputs": [
        {
          "name": "stdout",
          "output_type": "stream",
          "text": [
            "[*********************100%***********************]  28 of 28 completed\n"
          ]
        }
      ],
      "source": [
        "universe = [\"GETI-B.ST\", \"ATCO-A.ST\", \"VOLV-B.ST\", \"TEL2-B.ST\", \"ELUX-B.ST\", \"TELIA.ST\", \"HM-B.ST\", \"SKA-B.ST\", \n",
        "            \"ALFA.ST\", \"ERIC-B.ST\", \"SKF-B.ST\", \"SAND.ST\", \"AZN.ST\", \"SECU-B.ST\", \"INVE-B.ST\", \"ABB.ST\", \n",
        "            \"SEB-A.ST\", \"SHB-A.ST\", \"SCA-B.ST\", \"SSAB-A.ST\", \"ASSA-B.ST\", \"ALIV-SDB.ST\", \"HEXA-B.ST\", \n",
        "            \"SWED-A.ST\", \"ATCO-B.ST\", \"KINV-B.ST\", \"BOL.ST\", \"NDA-SE.ST\"]\n",
        "start_date = datetime(2002, 5, 1)\n",
        "end_date = datetime(2020, 1, 1)\n",
        "interval = \"1d\"\n",
        "\n",
        "obj = DataImportfromYf(universe=universe, start_ts=start_date, end_ts=end_date, interval=interval, ignore_tz=True)\n",
        "data = obj.get_data()"
      ]
    },
    {
      "cell_type": "code",
      "execution_count": 4,
      "metadata": {
        "colab": {
          "base_uri": "https://localhost:8080/",
          "height": 237
        },
        "id": "KnYC7LSs06WS",
        "outputId": "e8ed17a3-c298-4c17-df00-170470d6e228"
      },
      "outputs": [
        {
          "data": {
            "text/html": [
              "<div>\n",
              "<style scoped>\n",
              "    .dataframe tbody tr th:only-of-type {\n",
              "        vertical-align: middle;\n",
              "    }\n",
              "\n",
              "    .dataframe tbody tr th {\n",
              "        vertical-align: top;\n",
              "    }\n",
              "\n",
              "    .dataframe thead th {\n",
              "        text-align: right;\n",
              "    }\n",
              "</style>\n",
              "<table border=\"1\" class=\"dataframe\">\n",
              "  <thead>\n",
              "    <tr style=\"text-align: right;\">\n",
              "      <th></th>\n",
              "      <th></th>\n",
              "      <th>adj_close</th>\n",
              "      <th>close</th>\n",
              "      <th>high</th>\n",
              "      <th>low</th>\n",
              "      <th>open</th>\n",
              "      <th>volume</th>\n",
              "    </tr>\n",
              "    <tr>\n",
              "      <th>ts</th>\n",
              "      <th>symbol</th>\n",
              "      <th></th>\n",
              "      <th></th>\n",
              "      <th></th>\n",
              "      <th></th>\n",
              "      <th></th>\n",
              "      <th></th>\n",
              "    </tr>\n",
              "  </thead>\n",
              "  <tbody>\n",
              "    <tr>\n",
              "      <th rowspan=\"5\" valign=\"top\">2002-05-01</th>\n",
              "      <th>ABB.ST</th>\n",
              "      <td>68.324257</td>\n",
              "      <td>73.443237</td>\n",
              "      <td>73.443237</td>\n",
              "      <td>73.443237</td>\n",
              "      <td>73.443237</td>\n",
              "      <td>0.0</td>\n",
              "    </tr>\n",
              "    <tr>\n",
              "      <th>ALIV-SDB.ST</th>\n",
              "      <td>190.604431</td>\n",
              "      <td>228.500000</td>\n",
              "      <td>228.500000</td>\n",
              "      <td>228.500000</td>\n",
              "      <td>228.500000</td>\n",
              "      <td>0.0</td>\n",
              "    </tr>\n",
              "    <tr>\n",
              "      <th>ATCO-A.ST</th>\n",
              "      <td>3.608177</td>\n",
              "      <td>7.640396</td>\n",
              "      <td>7.640396</td>\n",
              "      <td>7.640396</td>\n",
              "      <td>7.640396</td>\n",
              "      <td>0.0</td>\n",
              "    </tr>\n",
              "    <tr>\n",
              "      <th>ATCO-B.ST</th>\n",
              "      <td>3.110863</td>\n",
              "      <td>7.141966</td>\n",
              "      <td>7.141966</td>\n",
              "      <td>7.141966</td>\n",
              "      <td>7.141966</td>\n",
              "      <td>0.0</td>\n",
              "    </tr>\n",
              "    <tr>\n",
              "      <th>AZN.ST</th>\n",
              "      <td>402.793335</td>\n",
              "      <td>482.000000</td>\n",
              "      <td>482.000000</td>\n",
              "      <td>482.000000</td>\n",
              "      <td>482.000000</td>\n",
              "      <td>0.0</td>\n",
              "    </tr>\n",
              "  </tbody>\n",
              "</table>\n",
              "</div>"
            ],
            "text/plain": [
              "                         adj_close       close        high         low  \\\n",
              "ts         symbol                                                        \n",
              "2002-05-01 ABB.ST        68.324257   73.443237   73.443237   73.443237   \n",
              "           ALIV-SDB.ST  190.604431  228.500000  228.500000  228.500000   \n",
              "           ATCO-A.ST      3.608177    7.640396    7.640396    7.640396   \n",
              "           ATCO-B.ST      3.110863    7.141966    7.141966    7.141966   \n",
              "           AZN.ST       402.793335  482.000000  482.000000  482.000000   \n",
              "\n",
              "                              open  volume  \n",
              "ts         symbol                           \n",
              "2002-05-01 ABB.ST        73.443237     0.0  \n",
              "           ALIV-SDB.ST  228.500000     0.0  \n",
              "           ATCO-A.ST      7.640396     0.0  \n",
              "           ATCO-B.ST      7.141966     0.0  \n",
              "           AZN.ST       482.000000     0.0  "
            ]
          },
          "execution_count": 4,
          "metadata": {},
          "output_type": "execute_result"
        }
      ],
      "source": [
        "data.head(5)"
      ]
    },
    {
      "cell_type": "markdown",
      "metadata": {
        "id": "2U9OE-YE06WU"
      },
      "source": [
        "## Clean the data and add past, future returns and target "
      ]
    },
    {
      "cell_type": "code",
      "execution_count": 5,
      "metadata": {
        "colab": {
          "base_uri": "https://localhost:8080/",
          "height": 80
        },
        "id": "yYopBu5G06WX",
        "outputId": "07abd4e7-02bd-4710-9dba-d454428c597e"
      },
      "outputs": [
        {
          "data": {
            "text/html": [
              "<div>\n",
              "<style scoped>\n",
              "    .dataframe tbody tr th:only-of-type {\n",
              "        vertical-align: middle;\n",
              "    }\n",
              "\n",
              "    .dataframe tbody tr th {\n",
              "        vertical-align: top;\n",
              "    }\n",
              "\n",
              "    .dataframe thead th {\n",
              "        text-align: right;\n",
              "    }\n",
              "</style>\n",
              "<table border=\"1\" class=\"dataframe\">\n",
              "  <thead>\n",
              "    <tr style=\"text-align: right;\">\n",
              "      <th></th>\n",
              "      <th></th>\n",
              "      <th>adj_close</th>\n",
              "      <th>close</th>\n",
              "      <th>high</th>\n",
              "      <th>low</th>\n",
              "      <th>open</th>\n",
              "      <th>volume</th>\n",
              "    </tr>\n",
              "    <tr>\n",
              "      <th>ts</th>\n",
              "      <th>symbol</th>\n",
              "      <th></th>\n",
              "      <th></th>\n",
              "      <th></th>\n",
              "      <th></th>\n",
              "      <th></th>\n",
              "      <th></th>\n",
              "    </tr>\n",
              "  </thead>\n",
              "  <tbody>\n",
              "  </tbody>\n",
              "</table>\n",
              "</div>"
            ],
            "text/plain": [
              "Empty DataFrame\n",
              "Columns: [adj_close, close, high, low, open, volume]\n",
              "Index: []"
            ]
          },
          "execution_count": 5,
          "metadata": {},
          "output_type": "execute_result"
        }
      ],
      "source": [
        "# Are there any missing values ?\n",
        "data[data.isnull().any(axis=1)]"
      ]
    },
    {
      "cell_type": "code",
      "execution_count": 6,
      "metadata": {
        "id": "jZSB51oc06WV"
      },
      "outputs": [],
      "source": [
        "# Past Returns\n",
        "data = add_return(data, target=\"close\", deltas=[1], by=\"symbol\", disable_tqdm=True)\n",
        "# Future Returns\n",
        "data = add_return(data, target=\"close\", deltas=[-1], by=\"symbol\", disable_tqdm=True)"
      ]
    },
    {
      "cell_type": "code",
      "execution_count": 7,
      "metadata": {
        "id": "waKELdaO06WY"
      },
      "outputs": [],
      "source": [
        "# Drop useless data\n",
        "data = data.dropna(subset=[\"past_ret_1D_close\", \"fut_ret_1D_close\"])"
      ]
    },
    {
      "cell_type": "code",
      "execution_count": 8,
      "metadata": {
        "id": "EzeIKoS406WZ"
      },
      "outputs": [
        {
          "name": "stderr",
          "output_type": "stream",
          "text": [
            "/home/ibenchek/projet/projet-ZZ2/LSTM/Features.py:74: FutureWarning: Not prepending group keys to the result index of transform-like apply. In the future, the group keys will be included in the index, regardless of whether the applied function returns a like-indexed object.\n",
            "To preserve the previous behavior, use\n",
            "\n",
            "\t>>> .groupby(..., group_keys=False)\n",
            "\n",
            "To adopt the future behavior and silence this warning, use \n",
            "\n",
            "\t>>> .groupby(..., group_keys=True)\n",
            "  data = data.groupby(\"ts\").apply(lambda df: pd.Series((df > df.median()).astype(int), index=df.index))\n"
          ]
        }
      ],
      "source": [
        "# Target feature (y label)\n",
        "label_name = \"fut_ret_1D_close\"\n",
        "label_fit = data[label_name]\n",
        "label_fit = binarize_label(data=label_fit)"
      ]
    },
    {
      "cell_type": "code",
      "execution_count": 9,
      "metadata": {
        "id": "ZwvfdH6aNDad"
      },
      "outputs": [],
      "source": [
        "# Standardized the past return with respect to the stock basket at each date\n",
        "data = standardize_feat_basket(data=data, features_names = [\"past_ret_1D_close\"], by = [\"ts\"])"
      ]
    },
    {
      "cell_type": "code",
      "execution_count": 10,
      "metadata": {
        "colab": {
          "base_uri": "https://localhost:8080/"
        },
        "id": "cZc6Opo9OM_Z",
        "outputId": "af969b29-7f8f-4b86-8285-10c3e6a83e89"
      },
      "outputs": [
        {
          "data": {
            "text/plain": [
              "891"
            ]
          },
          "execution_count": 10,
          "metadata": {},
          "output_type": "execute_result"
        }
      ],
      "source": [
        "len(data[data.isnull().any(axis=1)])"
      ]
    },
    {
      "cell_type": "code",
      "execution_count": 11,
      "metadata": {
        "id": "wyVwZIDoOx3c"
      },
      "outputs": [],
      "source": [
        "# drop na introduced by the standardization process\n",
        "data = data.dropna(subset=[\"past_ret_1D_close\", \"fut_ret_1D_close\"])"
      ]
    },
    {
      "cell_type": "markdown",
      "metadata": {
        "id": "BsbiP1do2qI6"
      },
      "source": [
        "# Statistical Learning"
      ]
    },
    {
      "cell_type": "markdown",
      "metadata": {
        "id": "8X0lm4zExwCg"
      },
      "source": [
        "## Train and save all LSTM models for each stock"
      ]
    },
    {
      "cell_type": "code",
      "execution_count": 12,
      "metadata": {
        "id": "1N5kkbwJVcMi"
      },
      "outputs": [],
      "source": [
        "def train_all_lstm(data: pd.DataFrame, label_fit: pd.Series, feature: str, symbol_list: List[str], \n",
        "                   strategy_code: str, model_parameters: Dict[str, Any], path_model: str) -> None:\n",
        "  for symbol in symbol_list:\n",
        "    lstm = LongShortTermMemory(data, label_fit, feature, symbol, strategy_code, model_parameters, path_model)\n",
        "    # Split the ts in three different sets (we retrieve only indexes)\n",
        "    train_idx, val_idx, test_idx = lstm.split_series()\n",
        "    # return all datasets (x_train,x_val, etc.) in a dict\n",
        "    res = lstm.get_data(train_idx, val_idx, test_idx)\n",
        "    # Shape the data as recommanded in the keras api\n",
        "    shaped_data = lstm.shape_data(res)\n",
        "    # fit the LSTM\n",
        "    lstm.fit(shaped_data)\n",
        "    # Save the model\n",
        "    lstm.save_lstm_model(path_model)"
      ]
    },
    {
      "cell_type": "code",
      "execution_count": 13,
      "metadata": {
        "id": "57jHY7WhWpid"
      },
      "outputs": [],
      "source": [
        "# config variables\n",
        "path_model = f\"./Models/\"\n",
        "opt = Adam(learning_rate=0.001)\n",
        "model_parameters = {\"split_ratio\" : {\"train\" : 0.70, \"val\" : 0.15}, \"n_steps\" : 240,\n",
        "                    \"early_stopp_patience\" : 5, \"epochs\" : 100, \"batch_size\": 30, \"init\" : 0, \n",
        "                    \"n_neurons\" : 3, \"dropout\" : 0.06, \"recurrent_dropout\" : 0, \"metrics\" : \"accuracy\", \n",
        "                    \"optimizer\" : opt, \"kernel_init\" : GlorotUniform(seed=123),\n",
        "                    \"path_model\" : path_model}"
      ]
    },
    {
      "cell_type": "code",
      "execution_count": 14,
      "metadata": {
        "colab": {
          "base_uri": "https://localhost:8080/"
        },
        "id": "8eFm4R9jXBdf",
        "outputId": "0fc93a52-c8af-4f44-abf9-da92d6232f8a"
      },
      "outputs": [
        {
          "name": "stderr",
          "output_type": "stream",
          "text": [
            "2023-01-31 16:15:52.409086: W tensorflow/compiler/xla/stream_executor/platform/default/dso_loader.cc:64] Could not load dynamic library 'libcuda.so.1'; dlerror: libcuda.so.1: cannot open shared object file: No such file or directory\n",
            "2023-01-31 16:15:52.411303: W tensorflow/compiler/xla/stream_executor/cuda/cuda_driver.cc:265] failed call to cuInit: UNKNOWN ERROR (303)\n",
            "2023-01-31 16:15:52.412203: I tensorflow/compiler/xla/stream_executor/cuda/cuda_diagnostics.cc:156] kernel driver does not appear to be running on this host (IsmailBENCHEK): /proc/driver/nvidia/version does not exist\n",
            "2023-01-31 16:15:52.430474: I tensorflow/core/platform/cpu_feature_guard.cc:193] This TensorFlow binary is optimized with oneAPI Deep Neural Network Library (oneDNN) to use the following CPU instructions in performance-critical operations:  AVX2 AVX512F AVX512_VNNI FMA\n",
            "To enable them in other operations, rebuild TensorFlow with the appropriate compiler flags.\n"
          ]
        },
        {
          "name": "stdout",
          "output_type": "stream",
          "text": [
            "Epoch 1/100\n",
            "96/96 - 19s - loss: 2.9342 - accuracy: 0.4990 - val_loss: 1.2050 - val_accuracy: 0.5401 - 19s/epoch - 200ms/step\n",
            "Epoch 2/100\n",
            "96/96 - 5s - loss: 0.9953 - accuracy: 0.4993 - val_loss: 0.7336 - val_accuracy: 0.4882 - 5s/epoch - 51ms/step\n",
            "Epoch 3/100\n",
            "96/96 - 5s - loss: 0.7377 - accuracy: 0.5010 - val_loss: 0.7143 - val_accuracy: 0.4858 - 5s/epoch - 51ms/step\n",
            "Epoch 4/100\n",
            "96/96 - 5s - loss: 0.7241 - accuracy: 0.5056 - val_loss: 0.7049 - val_accuracy: 0.4882 - 5s/epoch - 48ms/step\n",
            "Epoch 5/100\n",
            "96/96 - 5s - loss: 0.7143 - accuracy: 0.5073 - val_loss: 0.7068 - val_accuracy: 0.4764 - 5s/epoch - 50ms/step\n",
            "Epoch 6/100\n",
            "96/96 - 5s - loss: 0.7127 - accuracy: 0.5031 - val_loss: 0.6993 - val_accuracy: 0.4811 - 5s/epoch - 49ms/step\n",
            "Epoch 7/100\n",
            "96/96 - 5s - loss: 0.7115 - accuracy: 0.5154 - val_loss: 0.7000 - val_accuracy: 0.4976 - 5s/epoch - 50ms/step\n",
            "Epoch 8/100\n",
            "96/96 - 5s - loss: 0.7092 - accuracy: 0.5031 - val_loss: 0.7001 - val_accuracy: 0.4906 - 5s/epoch - 49ms/step\n",
            "Epoch 9/100\n",
            "96/96 - 5s - loss: 0.7103 - accuracy: 0.5101 - val_loss: 0.6979 - val_accuracy: 0.4764 - 5s/epoch - 52ms/step\n",
            "Epoch 10/100\n",
            "96/96 - 5s - loss: 0.7118 - accuracy: 0.5031 - val_loss: 0.6999 - val_accuracy: 0.4976 - 5s/epoch - 52ms/step\n",
            "Epoch 11/100\n",
            "96/96 - 5s - loss: 0.7034 - accuracy: 0.5080 - val_loss: 0.6964 - val_accuracy: 0.4811 - 5s/epoch - 52ms/step\n",
            "Epoch 12/100\n",
            "96/96 - 5s - loss: 0.7057 - accuracy: 0.5010 - val_loss: 0.6964 - val_accuracy: 0.4835 - 5s/epoch - 53ms/step\n",
            "Epoch 13/100\n",
            "96/96 - 5s - loss: 0.7041 - accuracy: 0.5024 - val_loss: 0.6958 - val_accuracy: 0.4906 - 5s/epoch - 49ms/step\n",
            "Epoch 14/100\n",
            "96/96 - 5s - loss: 0.7056 - accuracy: 0.5066 - val_loss: 0.6946 - val_accuracy: 0.5094 - 5s/epoch - 47ms/step\n",
            "Epoch 15/100\n",
            "96/96 - 5s - loss: 0.7041 - accuracy: 0.5073 - val_loss: 0.6947 - val_accuracy: 0.4976 - 5s/epoch - 49ms/step\n",
            "Epoch 16/100\n",
            "96/96 - 5s - loss: 0.7071 - accuracy: 0.5049 - val_loss: 0.6961 - val_accuracy: 0.4882 - 5s/epoch - 48ms/step\n",
            "Epoch 17/100\n",
            "96/96 - 4s - loss: 0.7058 - accuracy: 0.5091 - val_loss: 0.6939 - val_accuracy: 0.5212 - 4s/epoch - 47ms/step\n",
            "Epoch 18/100\n",
            "96/96 - 5s - loss: 0.7009 - accuracy: 0.5143 - val_loss: 0.6940 - val_accuracy: 0.5165 - 5s/epoch - 47ms/step\n",
            "Epoch 19/100\n",
            "96/96 - 5s - loss: 0.7055 - accuracy: 0.5035 - val_loss: 0.6976 - val_accuracy: 0.4835 - 5s/epoch - 48ms/step\n",
            "Epoch 20/100\n",
            "96/96 - 5s - loss: 0.7041 - accuracy: 0.5031 - val_loss: 0.6954 - val_accuracy: 0.4929 - 5s/epoch - 49ms/step\n",
            "Epoch 21/100\n",
            "96/96 - 5s - loss: 0.7011 - accuracy: 0.5140 - val_loss: 0.6949 - val_accuracy: 0.4976 - 5s/epoch - 48ms/step\n",
            "Epoch 22/100\n",
            "96/96 - 5s - loss: 0.7009 - accuracy: 0.5147 - val_loss: 0.6951 - val_accuracy: 0.4882 - 5s/epoch - 48ms/step\n",
            "Saved model to disk\n",
            "Epoch 1/100\n",
            "96/96 - 7s - loss: 1.1824 - accuracy: 0.4948 - val_loss: 0.8928 - val_accuracy: 0.4811 - 7s/epoch - 75ms/step\n",
            "Epoch 2/100\n",
            "96/96 - 5s - loss: 0.7555 - accuracy: 0.4913 - val_loss: 0.7112 - val_accuracy: 0.4599 - 5s/epoch - 48ms/step\n",
            "Epoch 3/100\n",
            "96/96 - 5s - loss: 0.7120 - accuracy: 0.5182 - val_loss: 0.7059 - val_accuracy: 0.4599 - 5s/epoch - 49ms/step\n",
            "Epoch 4/100\n",
            "96/96 - 5s - loss: 0.7086 - accuracy: 0.5154 - val_loss: 0.7050 - val_accuracy: 0.4552 - 5s/epoch - 47ms/step\n",
            "Epoch 5/100\n",
            "96/96 - 5s - loss: 0.7060 - accuracy: 0.5182 - val_loss: 0.7023 - val_accuracy: 0.4623 - 5s/epoch - 48ms/step\n",
            "Epoch 6/100\n",
            "96/96 - 5s - loss: 0.7079 - accuracy: 0.5168 - val_loss: 0.7011 - val_accuracy: 0.4646 - 5s/epoch - 48ms/step\n",
            "Epoch 7/100\n",
            "96/96 - 5s - loss: 0.7076 - accuracy: 0.5175 - val_loss: 0.6990 - val_accuracy: 0.5024 - 5s/epoch - 49ms/step\n",
            "Epoch 8/100\n",
            "96/96 - 5s - loss: 0.7080 - accuracy: 0.5129 - val_loss: 0.7002 - val_accuracy: 0.4693 - 5s/epoch - 49ms/step\n",
            "Epoch 9/100\n",
            "96/96 - 5s - loss: 0.7069 - accuracy: 0.5157 - val_loss: 0.6991 - val_accuracy: 0.4788 - 5s/epoch - 49ms/step\n",
            "Epoch 10/100\n",
            "96/96 - 5s - loss: 0.7039 - accuracy: 0.5185 - val_loss: 0.6977 - val_accuracy: 0.4929 - 5s/epoch - 48ms/step\n",
            "Epoch 11/100\n",
            "96/96 - 5s - loss: 0.7027 - accuracy: 0.5220 - val_loss: 0.6993 - val_accuracy: 0.4858 - 5s/epoch - 48ms/step\n",
            "Epoch 12/100\n",
            "96/96 - 5s - loss: 0.7063 - accuracy: 0.5154 - val_loss: 0.6970 - val_accuracy: 0.4882 - 5s/epoch - 48ms/step\n",
            "Epoch 13/100\n",
            "96/96 - 5s - loss: 0.7062 - accuracy: 0.5056 - val_loss: 0.6992 - val_accuracy: 0.4693 - 5s/epoch - 48ms/step\n",
            "Epoch 14/100\n",
            "96/96 - 5s - loss: 0.7035 - accuracy: 0.5147 - val_loss: 0.6969 - val_accuracy: 0.4953 - 5s/epoch - 48ms/step\n",
            "Epoch 15/100\n",
            "96/96 - 5s - loss: 0.7025 - accuracy: 0.5238 - val_loss: 0.6955 - val_accuracy: 0.5024 - 5s/epoch - 49ms/step\n",
            "Epoch 16/100\n",
            "96/96 - 5s - loss: 0.6989 - accuracy: 0.5199 - val_loss: 0.6951 - val_accuracy: 0.5118 - 5s/epoch - 48ms/step\n",
            "Epoch 17/100\n",
            "96/96 - 5s - loss: 0.7017 - accuracy: 0.5077 - val_loss: 0.6960 - val_accuracy: 0.4953 - 5s/epoch - 50ms/step\n",
            "Epoch 18/100\n",
            "96/96 - 5s - loss: 0.7014 - accuracy: 0.5112 - val_loss: 0.6950 - val_accuracy: 0.5047 - 5s/epoch - 49ms/step\n",
            "Epoch 19/100\n",
            "96/96 - 5s - loss: 0.7045 - accuracy: 0.5133 - val_loss: 0.6946 - val_accuracy: 0.5071 - 5s/epoch - 47ms/step\n",
            "Epoch 20/100\n",
            "96/96 - 5s - loss: 0.7025 - accuracy: 0.5070 - val_loss: 0.6944 - val_accuracy: 0.5000 - 5s/epoch - 49ms/step\n",
            "Epoch 21/100\n",
            "96/96 - 5s - loss: 0.7073 - accuracy: 0.5059 - val_loss: 0.6960 - val_accuracy: 0.4906 - 5s/epoch - 48ms/step\n",
            "Epoch 22/100\n",
            "96/96 - 5s - loss: 0.7057 - accuracy: 0.5077 - val_loss: 0.6944 - val_accuracy: 0.5000 - 5s/epoch - 49ms/step\n",
            "Epoch 23/100\n",
            "96/96 - 5s - loss: 0.6991 - accuracy: 0.5224 - val_loss: 0.6935 - val_accuracy: 0.5071 - 5s/epoch - 48ms/step\n",
            "Epoch 24/100\n",
            "96/96 - 5s - loss: 0.7017 - accuracy: 0.5150 - val_loss: 0.6930 - val_accuracy: 0.5094 - 5s/epoch - 49ms/step\n",
            "Epoch 25/100\n",
            "96/96 - 5s - loss: 0.6987 - accuracy: 0.5210 - val_loss: 0.6930 - val_accuracy: 0.5071 - 5s/epoch - 47ms/step\n",
            "Epoch 26/100\n",
            "96/96 - 5s - loss: 0.7085 - accuracy: 0.5066 - val_loss: 0.6943 - val_accuracy: 0.4953 - 5s/epoch - 50ms/step\n",
            "Epoch 27/100\n",
            "96/96 - 5s - loss: 0.7009 - accuracy: 0.5248 - val_loss: 0.6928 - val_accuracy: 0.5024 - 5s/epoch - 49ms/step\n",
            "Epoch 28/100\n",
            "96/96 - 5s - loss: 0.7004 - accuracy: 0.5182 - val_loss: 0.6929 - val_accuracy: 0.5024 - 5s/epoch - 49ms/step\n",
            "Epoch 29/100\n",
            "96/96 - 5s - loss: 0.7028 - accuracy: 0.5129 - val_loss: 0.6925 - val_accuracy: 0.5000 - 5s/epoch - 48ms/step\n",
            "Epoch 30/100\n",
            "96/96 - 5s - loss: 0.7012 - accuracy: 0.5119 - val_loss: 0.6926 - val_accuracy: 0.5000 - 5s/epoch - 49ms/step\n",
            "Epoch 31/100\n",
            "96/96 - 5s - loss: 0.7048 - accuracy: 0.5140 - val_loss: 0.6926 - val_accuracy: 0.4976 - 5s/epoch - 48ms/step\n",
            "Epoch 32/100\n",
            "96/96 - 5s - loss: 0.7021 - accuracy: 0.5147 - val_loss: 0.6914 - val_accuracy: 0.5354 - 5s/epoch - 50ms/step\n",
            "Epoch 33/100\n",
            "96/96 - 5s - loss: 0.6979 - accuracy: 0.5199 - val_loss: 0.6919 - val_accuracy: 0.5024 - 5s/epoch - 49ms/step\n",
            "Epoch 34/100\n",
            "96/96 - 5s - loss: 0.6955 - accuracy: 0.5255 - val_loss: 0.6916 - val_accuracy: 0.5047 - 5s/epoch - 50ms/step\n",
            "Epoch 35/100\n",
            "96/96 - 5s - loss: 0.7028 - accuracy: 0.5126 - val_loss: 0.6916 - val_accuracy: 0.4953 - 5s/epoch - 50ms/step\n",
            "Epoch 36/100\n",
            "96/96 - 5s - loss: 0.6969 - accuracy: 0.5245 - val_loss: 0.6907 - val_accuracy: 0.5401 - 5s/epoch - 48ms/step\n",
            "Epoch 37/100\n",
            "96/96 - 5s - loss: 0.6995 - accuracy: 0.5129 - val_loss: 0.6923 - val_accuracy: 0.4906 - 5s/epoch - 49ms/step\n",
            "Epoch 38/100\n",
            "96/96 - 5s - loss: 0.6972 - accuracy: 0.5238 - val_loss: 0.6905 - val_accuracy: 0.5472 - 5s/epoch - 52ms/step\n",
            "Epoch 39/100\n",
            "96/96 - 5s - loss: 0.6996 - accuracy: 0.5178 - val_loss: 0.6914 - val_accuracy: 0.4976 - 5s/epoch - 49ms/step\n",
            "Epoch 40/100\n",
            "96/96 - 5s - loss: 0.6968 - accuracy: 0.5154 - val_loss: 0.6914 - val_accuracy: 0.5000 - 5s/epoch - 49ms/step\n",
            "Epoch 41/100\n",
            "96/96 - 5s - loss: 0.6962 - accuracy: 0.5224 - val_loss: 0.6918 - val_accuracy: 0.4882 - 5s/epoch - 48ms/step\n",
            "Epoch 42/100\n",
            "96/96 - 5s - loss: 0.6994 - accuracy: 0.5196 - val_loss: 0.6898 - val_accuracy: 0.5542 - 5s/epoch - 50ms/step\n",
            "Epoch 43/100\n",
            "96/96 - 5s - loss: 0.6985 - accuracy: 0.5105 - val_loss: 0.6916 - val_accuracy: 0.4882 - 5s/epoch - 50ms/step\n",
            "Epoch 44/100\n",
            "96/96 - 5s - loss: 0.6960 - accuracy: 0.5115 - val_loss: 0.6914 - val_accuracy: 0.4882 - 5s/epoch - 48ms/step\n",
            "Epoch 45/100\n",
            "96/96 - 5s - loss: 0.6976 - accuracy: 0.5161 - val_loss: 0.6900 - val_accuracy: 0.5566 - 5s/epoch - 49ms/step\n",
            "Epoch 46/100\n",
            "96/96 - 5s - loss: 0.6979 - accuracy: 0.5108 - val_loss: 0.6910 - val_accuracy: 0.5024 - 5s/epoch - 48ms/step\n",
            "Epoch 47/100\n",
            "96/96 - 5s - loss: 0.6985 - accuracy: 0.5129 - val_loss: 0.6906 - val_accuracy: 0.5094 - 5s/epoch - 49ms/step\n",
            "Saved model to disk\n",
            "Epoch 1/100\n",
            "96/96 - 8s - loss: 0.9916 - accuracy: 0.5122 - val_loss: 0.7032 - val_accuracy: 0.4811 - 8s/epoch - 78ms/step\n",
            "Epoch 2/100\n",
            "96/96 - 5s - loss: 0.7027 - accuracy: 0.5112 - val_loss: 0.7070 - val_accuracy: 0.4788 - 5s/epoch - 54ms/step\n",
            "Epoch 3/100\n",
            "96/96 - 5s - loss: 0.7044 - accuracy: 0.5038 - val_loss: 0.7008 - val_accuracy: 0.4764 - 5s/epoch - 49ms/step\n",
            "Epoch 4/100\n",
            "96/96 - 5s - loss: 0.7062 - accuracy: 0.5108 - val_loss: 0.6979 - val_accuracy: 0.4741 - 5s/epoch - 49ms/step\n",
            "Epoch 5/100\n",
            "96/96 - 5s - loss: 0.7070 - accuracy: 0.5073 - val_loss: 0.7057 - val_accuracy: 0.4788 - 5s/epoch - 48ms/step\n",
            "Epoch 6/100\n",
            "96/96 - 5s - loss: 0.7040 - accuracy: 0.5231 - val_loss: 0.7014 - val_accuracy: 0.4811 - 5s/epoch - 51ms/step\n",
            "Epoch 7/100\n",
            "96/96 - 5s - loss: 0.7037 - accuracy: 0.5119 - val_loss: 0.6958 - val_accuracy: 0.4552 - 5s/epoch - 50ms/step\n",
            "Epoch 8/100\n",
            "96/96 - 5s - loss: 0.7022 - accuracy: 0.5084 - val_loss: 0.7026 - val_accuracy: 0.4788 - 5s/epoch - 48ms/step\n",
            "Epoch 9/100\n",
            "96/96 - 5s - loss: 0.6988 - accuracy: 0.5154 - val_loss: 0.6993 - val_accuracy: 0.4764 - 5s/epoch - 51ms/step\n",
            "Epoch 10/100\n",
            "96/96 - 5s - loss: 0.7039 - accuracy: 0.5203 - val_loss: 0.6994 - val_accuracy: 0.4835 - 5s/epoch - 49ms/step\n",
            "Epoch 11/100\n",
            "96/96 - 5s - loss: 0.6988 - accuracy: 0.5084 - val_loss: 0.7002 - val_accuracy: 0.4670 - 5s/epoch - 49ms/step\n",
            "Epoch 12/100\n",
            "96/96 - 5s - loss: 0.7011 - accuracy: 0.5147 - val_loss: 0.7016 - val_accuracy: 0.4670 - 5s/epoch - 50ms/step\n",
            "Saved model to disk\n",
            "Epoch 1/100\n",
            "96/96 - 7s - loss: 0.8773 - accuracy: 0.4993 - val_loss: 0.6968 - val_accuracy: 0.5259 - 7s/epoch - 70ms/step\n",
            "Epoch 2/100\n",
            "96/96 - 5s - loss: 0.7069 - accuracy: 0.5143 - val_loss: 0.6968 - val_accuracy: 0.5118 - 5s/epoch - 51ms/step\n",
            "Epoch 3/100\n",
            "96/96 - 5s - loss: 0.7042 - accuracy: 0.5031 - val_loss: 0.6941 - val_accuracy: 0.5189 - 5s/epoch - 49ms/step\n",
            "Epoch 4/100\n",
            "96/96 - 5s - loss: 0.7005 - accuracy: 0.5140 - val_loss: 0.6950 - val_accuracy: 0.4976 - 5s/epoch - 49ms/step\n",
            "Epoch 5/100\n",
            "96/96 - 5s - loss: 0.6950 - accuracy: 0.5210 - val_loss: 0.6932 - val_accuracy: 0.5189 - 5s/epoch - 50ms/step\n",
            "Epoch 6/100\n",
            "96/96 - 5s - loss: 0.6990 - accuracy: 0.5147 - val_loss: 0.6932 - val_accuracy: 0.5024 - 5s/epoch - 50ms/step\n",
            "Epoch 7/100\n",
            "96/96 - 5s - loss: 0.6987 - accuracy: 0.5192 - val_loss: 0.6940 - val_accuracy: 0.4929 - 5s/epoch - 49ms/step\n",
            "Epoch 8/100\n",
            "96/96 - 5s - loss: 0.7003 - accuracy: 0.4976 - val_loss: 0.6944 - val_accuracy: 0.4976 - 5s/epoch - 48ms/step\n",
            "Epoch 9/100\n",
            "96/96 - 5s - loss: 0.6985 - accuracy: 0.5161 - val_loss: 0.6937 - val_accuracy: 0.4882 - 5s/epoch - 50ms/step\n",
            "Epoch 10/100\n",
            "96/96 - 5s - loss: 0.6990 - accuracy: 0.5154 - val_loss: 0.6931 - val_accuracy: 0.4976 - 5s/epoch - 48ms/step\n",
            "Epoch 11/100\n",
            "96/96 - 5s - loss: 0.6985 - accuracy: 0.5168 - val_loss: 0.6931 - val_accuracy: 0.4953 - 5s/epoch - 50ms/step\n",
            "Epoch 12/100\n",
            "96/96 - 5s - loss: 0.6965 - accuracy: 0.5066 - val_loss: 0.6936 - val_accuracy: 0.5071 - 5s/epoch - 49ms/step\n",
            "Epoch 13/100\n",
            "96/96 - 5s - loss: 0.6980 - accuracy: 0.5178 - val_loss: 0.6935 - val_accuracy: 0.5071 - 5s/epoch - 50ms/step\n",
            "Epoch 14/100\n",
            "96/96 - 5s - loss: 0.6959 - accuracy: 0.5287 - val_loss: 0.6936 - val_accuracy: 0.5000 - 5s/epoch - 49ms/step\n",
            "Epoch 15/100\n",
            "96/96 - 5s - loss: 0.6939 - accuracy: 0.5227 - val_loss: 0.6930 - val_accuracy: 0.4976 - 5s/epoch - 49ms/step\n",
            "Epoch 16/100\n",
            "96/96 - 5s - loss: 0.6956 - accuracy: 0.5115 - val_loss: 0.6936 - val_accuracy: 0.5142 - 5s/epoch - 50ms/step\n",
            "Epoch 17/100\n",
            "96/96 - 5s - loss: 0.6971 - accuracy: 0.5115 - val_loss: 0.6932 - val_accuracy: 0.4835 - 5s/epoch - 49ms/step\n",
            "Epoch 18/100\n",
            "96/96 - 5s - loss: 0.6948 - accuracy: 0.5154 - val_loss: 0.6930 - val_accuracy: 0.4906 - 5s/epoch - 50ms/step\n",
            "Epoch 19/100\n",
            "96/96 - 5s - loss: 0.6975 - accuracy: 0.4976 - val_loss: 0.6930 - val_accuracy: 0.4906 - 5s/epoch - 49ms/step\n",
            "Epoch 20/100\n",
            "96/96 - 5s - loss: 0.6969 - accuracy: 0.5196 - val_loss: 0.6934 - val_accuracy: 0.4929 - 5s/epoch - 50ms/step\n",
            "Epoch 21/100\n",
            "96/96 - 5s - loss: 0.6945 - accuracy: 0.5136 - val_loss: 0.6929 - val_accuracy: 0.4764 - 5s/epoch - 49ms/step\n",
            "Epoch 22/100\n",
            "96/96 - 5s - loss: 0.6970 - accuracy: 0.5108 - val_loss: 0.6930 - val_accuracy: 0.4976 - 5s/epoch - 49ms/step\n",
            "Epoch 23/100\n",
            "96/96 - 5s - loss: 0.6973 - accuracy: 0.5119 - val_loss: 0.6930 - val_accuracy: 0.4906 - 5s/epoch - 49ms/step\n",
            "Epoch 24/100\n",
            "96/96 - 5s - loss: 0.6957 - accuracy: 0.5112 - val_loss: 0.6933 - val_accuracy: 0.4976 - 5s/epoch - 50ms/step\n",
            "Epoch 25/100\n",
            "96/96 - 5s - loss: 0.6973 - accuracy: 0.5000 - val_loss: 0.6929 - val_accuracy: 0.4976 - 5s/epoch - 50ms/step\n",
            "Epoch 26/100\n",
            "96/96 - 5s - loss: 0.6982 - accuracy: 0.4976 - val_loss: 0.6929 - val_accuracy: 0.5071 - 5s/epoch - 49ms/step\n",
            "Epoch 27/100\n",
            "96/96 - 5s - loss: 0.6977 - accuracy: 0.5101 - val_loss: 0.6931 - val_accuracy: 0.4929 - 5s/epoch - 49ms/step\n",
            "Epoch 28/100\n",
            "96/96 - 5s - loss: 0.6956 - accuracy: 0.5105 - val_loss: 0.6931 - val_accuracy: 0.4906 - 5s/epoch - 49ms/step\n",
            "Epoch 29/100\n",
            "96/96 - 5s - loss: 0.6931 - accuracy: 0.5119 - val_loss: 0.6929 - val_accuracy: 0.5024 - 5s/epoch - 51ms/step\n",
            "Epoch 30/100\n",
            "96/96 - 5s - loss: 0.6958 - accuracy: 0.5080 - val_loss: 0.6931 - val_accuracy: 0.4906 - 5s/epoch - 49ms/step\n",
            "Saved model to disk\n",
            "Epoch 1/100\n",
            "96/96 - 8s - loss: 0.9324 - accuracy: 0.5049 - val_loss: 0.7073 - val_accuracy: 0.5377 - 8s/epoch - 81ms/step\n",
            "Epoch 2/100\n",
            "96/96 - 5s - loss: 0.7311 - accuracy: 0.5091 - val_loss: 0.7057 - val_accuracy: 0.5259 - 5s/epoch - 51ms/step\n",
            "Epoch 3/100\n",
            "96/96 - 5s - loss: 0.7182 - accuracy: 0.5297 - val_loss: 0.7040 - val_accuracy: 0.5212 - 5s/epoch - 51ms/step\n",
            "Epoch 4/100\n",
            "96/96 - 5s - loss: 0.7185 - accuracy: 0.5224 - val_loss: 0.7033 - val_accuracy: 0.5236 - 5s/epoch - 55ms/step\n",
            "Epoch 5/100\n",
            "96/96 - 5s - loss: 0.7146 - accuracy: 0.5245 - val_loss: 0.7018 - val_accuracy: 0.5212 - 5s/epoch - 51ms/step\n",
            "Epoch 6/100\n",
            "96/96 - 5s - loss: 0.7174 - accuracy: 0.5210 - val_loss: 0.7000 - val_accuracy: 0.5165 - 5s/epoch - 51ms/step\n",
            "Epoch 7/100\n",
            "96/96 - 5s - loss: 0.7173 - accuracy: 0.5129 - val_loss: 0.6984 - val_accuracy: 0.5118 - 5s/epoch - 50ms/step\n",
            "Epoch 8/100\n",
            "96/96 - 5s - loss: 0.7088 - accuracy: 0.5252 - val_loss: 0.6978 - val_accuracy: 0.5189 - 5s/epoch - 52ms/step\n",
            "Epoch 9/100\n",
            "96/96 - 5s - loss: 0.7128 - accuracy: 0.5154 - val_loss: 0.6960 - val_accuracy: 0.5189 - 5s/epoch - 52ms/step\n",
            "Epoch 10/100\n",
            "96/96 - 5s - loss: 0.7164 - accuracy: 0.5087 - val_loss: 0.6956 - val_accuracy: 0.5212 - 5s/epoch - 53ms/step\n",
            "Epoch 11/100\n",
            "96/96 - 5s - loss: 0.7144 - accuracy: 0.5119 - val_loss: 0.6949 - val_accuracy: 0.5189 - 5s/epoch - 53ms/step\n",
            "Epoch 12/100\n",
            "96/96 - 5s - loss: 0.7119 - accuracy: 0.5066 - val_loss: 0.6946 - val_accuracy: 0.5189 - 5s/epoch - 52ms/step\n",
            "Epoch 13/100\n",
            "96/96 - 5s - loss: 0.7091 - accuracy: 0.5161 - val_loss: 0.6933 - val_accuracy: 0.5283 - 5s/epoch - 51ms/step\n",
            "Epoch 14/100\n",
            "96/96 - 5s - loss: 0.7099 - accuracy: 0.5098 - val_loss: 0.6931 - val_accuracy: 0.5189 - 5s/epoch - 50ms/step\n",
            "Epoch 15/100\n",
            "96/96 - 5s - loss: 0.7033 - accuracy: 0.5196 - val_loss: 0.6921 - val_accuracy: 0.5212 - 5s/epoch - 51ms/step\n",
            "Epoch 16/100\n",
            "96/96 - 5s - loss: 0.7044 - accuracy: 0.5157 - val_loss: 0.6923 - val_accuracy: 0.5189 - 5s/epoch - 51ms/step\n",
            "Epoch 17/100\n",
            "96/96 - 5s - loss: 0.7016 - accuracy: 0.5192 - val_loss: 0.6924 - val_accuracy: 0.5118 - 5s/epoch - 50ms/step\n",
            "Epoch 18/100\n",
            "96/96 - 5s - loss: 0.7042 - accuracy: 0.5129 - val_loss: 0.6916 - val_accuracy: 0.5189 - 5s/epoch - 51ms/step\n",
            "Epoch 19/100\n",
            "96/96 - 5s - loss: 0.7087 - accuracy: 0.5066 - val_loss: 0.6913 - val_accuracy: 0.5142 - 5s/epoch - 50ms/step\n",
            "Epoch 20/100\n",
            "96/96 - 5s - loss: 0.7026 - accuracy: 0.5175 - val_loss: 0.6906 - val_accuracy: 0.5189 - 5s/epoch - 51ms/step\n",
            "Epoch 21/100\n",
            "96/96 - 5s - loss: 0.7028 - accuracy: 0.5087 - val_loss: 0.6905 - val_accuracy: 0.5212 - 5s/epoch - 52ms/step\n",
            "Epoch 22/100\n",
            "96/96 - 5s - loss: 0.7031 - accuracy: 0.5140 - val_loss: 0.6904 - val_accuracy: 0.5165 - 5s/epoch - 52ms/step\n",
            "Epoch 23/100\n",
            "96/96 - 5s - loss: 0.7069 - accuracy: 0.4979 - val_loss: 0.6912 - val_accuracy: 0.5094 - 5s/epoch - 50ms/step\n",
            "Epoch 24/100\n",
            "96/96 - 5s - loss: 0.7013 - accuracy: 0.5101 - val_loss: 0.6904 - val_accuracy: 0.5071 - 5s/epoch - 51ms/step\n",
            "Epoch 25/100\n",
            "96/96 - 5s - loss: 0.7022 - accuracy: 0.5161 - val_loss: 0.6910 - val_accuracy: 0.5094 - 5s/epoch - 52ms/step\n",
            "Epoch 26/100\n",
            "96/96 - 5s - loss: 0.6979 - accuracy: 0.5266 - val_loss: 0.6904 - val_accuracy: 0.5118 - 5s/epoch - 51ms/step\n",
            "Epoch 27/100\n",
            "96/96 - 5s - loss: 0.7012 - accuracy: 0.5150 - val_loss: 0.6905 - val_accuracy: 0.5071 - 5s/epoch - 51ms/step\n",
            "Saved model to disk\n",
            "Epoch 1/100\n",
            "96/96 - 8s - loss: 0.9599 - accuracy: 0.5000 - val_loss: 0.6981 - val_accuracy: 0.5165 - 8s/epoch - 83ms/step\n",
            "Epoch 2/100\n",
            "96/96 - 5s - loss: 0.7111 - accuracy: 0.5136 - val_loss: 0.6970 - val_accuracy: 0.5000 - 5s/epoch - 53ms/step\n",
            "Epoch 3/100\n",
            "96/96 - 5s - loss: 0.7052 - accuracy: 0.5140 - val_loss: 0.6993 - val_accuracy: 0.4858 - 5s/epoch - 54ms/step\n",
            "Epoch 4/100\n",
            "96/96 - 5s - loss: 0.7125 - accuracy: 0.5007 - val_loss: 0.6958 - val_accuracy: 0.4929 - 5s/epoch - 57ms/step\n",
            "Epoch 5/100\n",
            "96/96 - 5s - loss: 0.7081 - accuracy: 0.5262 - val_loss: 0.7004 - val_accuracy: 0.4858 - 5s/epoch - 55ms/step\n",
            "Epoch 6/100\n",
            "96/96 - 5s - loss: 0.7049 - accuracy: 0.5161 - val_loss: 0.6952 - val_accuracy: 0.4906 - 5s/epoch - 54ms/step\n",
            "Epoch 7/100\n",
            "96/96 - 5s - loss: 0.7008 - accuracy: 0.5077 - val_loss: 0.6950 - val_accuracy: 0.4906 - 5s/epoch - 54ms/step\n",
            "Epoch 8/100\n",
            "96/96 - 6s - loss: 0.7055 - accuracy: 0.5154 - val_loss: 0.6921 - val_accuracy: 0.5047 - 6s/epoch - 60ms/step\n",
            "Epoch 9/100\n",
            "96/96 - 6s - loss: 0.7009 - accuracy: 0.5182 - val_loss: 0.6949 - val_accuracy: 0.4882 - 6s/epoch - 58ms/step\n",
            "Epoch 10/100\n",
            "96/96 - 5s - loss: 0.7024 - accuracy: 0.5178 - val_loss: 0.6962 - val_accuracy: 0.4835 - 5s/epoch - 50ms/step\n",
            "Epoch 11/100\n",
            "96/96 - 5s - loss: 0.7069 - accuracy: 0.5119 - val_loss: 0.6942 - val_accuracy: 0.4976 - 5s/epoch - 50ms/step\n",
            "Epoch 12/100\n",
            "96/96 - 5s - loss: 0.7032 - accuracy: 0.5080 - val_loss: 0.6951 - val_accuracy: 0.4741 - 5s/epoch - 49ms/step\n",
            "Epoch 13/100\n",
            "96/96 - 5s - loss: 0.7026 - accuracy: 0.5136 - val_loss: 0.6931 - val_accuracy: 0.5118 - 5s/epoch - 50ms/step\n",
            "Saved model to disk\n",
            "Epoch 1/100\n",
            "96/96 - 7s - loss: 0.9811 - accuracy: 0.5217 - val_loss: 0.7191 - val_accuracy: 0.5000 - 7s/epoch - 74ms/step\n",
            "Epoch 2/100\n",
            "96/96 - 5s - loss: 0.7130 - accuracy: 0.5283 - val_loss: 0.7028 - val_accuracy: 0.5259 - 5s/epoch - 51ms/step\n",
            "Epoch 3/100\n",
            "96/96 - 5s - loss: 0.7121 - accuracy: 0.5136 - val_loss: 0.7029 - val_accuracy: 0.5212 - 5s/epoch - 51ms/step\n",
            "Epoch 4/100\n",
            "96/96 - 5s - loss: 0.7024 - accuracy: 0.5185 - val_loss: 0.6995 - val_accuracy: 0.5283 - 5s/epoch - 48ms/step\n",
            "Epoch 5/100\n",
            "96/96 - 5s - loss: 0.6978 - accuracy: 0.5322 - val_loss: 0.6964 - val_accuracy: 0.5142 - 5s/epoch - 50ms/step\n",
            "Epoch 6/100\n",
            "96/96 - 5s - loss: 0.6997 - accuracy: 0.5171 - val_loss: 0.6934 - val_accuracy: 0.5283 - 5s/epoch - 49ms/step\n",
            "Epoch 7/100\n",
            "96/96 - 5s - loss: 0.7013 - accuracy: 0.5077 - val_loss: 0.6934 - val_accuracy: 0.5307 - 5s/epoch - 49ms/step\n",
            "Epoch 8/100\n",
            "96/96 - 5s - loss: 0.6985 - accuracy: 0.5133 - val_loss: 0.6957 - val_accuracy: 0.5283 - 5s/epoch - 50ms/step\n",
            "Epoch 9/100\n",
            "96/96 - 5s - loss: 0.6984 - accuracy: 0.5073 - val_loss: 0.6927 - val_accuracy: 0.5377 - 5s/epoch - 49ms/step\n",
            "Epoch 10/100\n",
            "96/96 - 5s - loss: 0.6983 - accuracy: 0.5126 - val_loss: 0.6979 - val_accuracy: 0.5118 - 5s/epoch - 50ms/step\n",
            "Epoch 11/100\n",
            "96/96 - 5s - loss: 0.6991 - accuracy: 0.5182 - val_loss: 0.6918 - val_accuracy: 0.5401 - 5s/epoch - 50ms/step\n",
            "Epoch 12/100\n",
            "96/96 - 5s - loss: 0.6979 - accuracy: 0.5091 - val_loss: 0.6910 - val_accuracy: 0.5330 - 5s/epoch - 50ms/step\n",
            "Epoch 13/100\n",
            "96/96 - 5s - loss: 0.6971 - accuracy: 0.5154 - val_loss: 0.6965 - val_accuracy: 0.5142 - 5s/epoch - 56ms/step\n",
            "Epoch 14/100\n",
            "96/96 - 5s - loss: 0.6971 - accuracy: 0.5091 - val_loss: 0.6964 - val_accuracy: 0.5142 - 5s/epoch - 53ms/step\n",
            "Epoch 15/100\n",
            "96/96 - 5s - loss: 0.6986 - accuracy: 0.5196 - val_loss: 0.6914 - val_accuracy: 0.5307 - 5s/epoch - 53ms/step\n",
            "Epoch 16/100\n",
            "96/96 - 5s - loss: 0.6958 - accuracy: 0.5185 - val_loss: 0.6921 - val_accuracy: 0.5307 - 5s/epoch - 56ms/step\n",
            "Epoch 17/100\n",
            "96/96 - 5s - loss: 0.6965 - accuracy: 0.5182 - val_loss: 0.6954 - val_accuracy: 0.5165 - 5s/epoch - 53ms/step\n",
            "Saved model to disk\n",
            "Epoch 1/100\n",
            "96/96 - 7s - loss: 1.0653 - accuracy: 0.4899 - val_loss: 0.7083 - val_accuracy: 0.4858 - 7s/epoch - 76ms/step\n",
            "Epoch 2/100\n",
            "96/96 - 5s - loss: 0.7256 - accuracy: 0.4727 - val_loss: 0.6996 - val_accuracy: 0.4788 - 5s/epoch - 52ms/step\n",
            "Epoch 3/100\n"
          ]
        }
      ],
      "source": [
        "train_all_lstm(data, label_fit, \"past_ret_1D_close\", universe, \"my_first_strat\", model_parameters, path_model)"
      ]
    },
    {
      "cell_type": "markdown",
      "metadata": {
        "id": "CmAsd8j8X-A2"
      },
      "source": [
        "## Load all LSTM models for each stock"
      ]
    },
    {
      "cell_type": "code",
      "execution_count": 17,
      "metadata": {
        "id": "BatgDKdvYGbB"
      },
      "outputs": [],
      "source": [
        "def load_all_lstm(data: pd.DataFrame, label_fit: pd.Series, feature: str, symbol_list: List[str], \n",
        "                   strategy_code: str, model_parameters: Dict[str, Any], path_model: str) -> Dict[str, LongShortTermMemory]:\n",
        "  res = {}\n",
        "  for symbol in symbol_list:\n",
        "    lstm = LongShortTermMemory(data, label_fit, feature, symbol, strategy_code, model_parameters, path_model)\n",
        "    lstm.load_lstm_model(path_model)\n",
        "    res[symbol] = lstm\n",
        "  return res"
      ]
    },
    {
      "cell_type": "code",
      "execution_count": 18,
      "metadata": {
        "colab": {
          "base_uri": "https://localhost:8080/"
        },
        "id": "u_3R8MKXeimo",
        "outputId": "3496ca4d-ee8a-4ac2-cd01-588967814c07"
      },
      "outputs": [
        {
          "name": "stdout",
          "output_type": "stream",
          "text": [
            "Loaded model from disk\n",
            "Loaded model from disk\n",
            "Loaded model from disk\n",
            "Loaded model from disk\n",
            "Loaded model from disk\n",
            "Loaded model from disk\n",
            "Loaded model from disk\n",
            "Loaded model from disk\n",
            "Loaded model from disk\n",
            "Loaded model from disk\n",
            "Loaded model from disk\n",
            "Loaded model from disk\n",
            "Loaded model from disk\n",
            "Loaded model from disk\n",
            "Loaded model from disk\n",
            "Loaded model from disk\n",
            "Loaded model from disk\n",
            "Loaded model from disk\n",
            "Loaded model from disk\n",
            "Loaded model from disk\n",
            "Loaded model from disk\n",
            "Loaded model from disk\n",
            "Loaded model from disk\n",
            "Loaded model from disk\n",
            "Loaded model from disk\n",
            "Loaded model from disk\n",
            "Loaded model from disk\n",
            "Loaded model from disk\n"
          ]
        }
      ],
      "source": [
        "lstm_dict = load_all_lstm(data, label_fit, \"past_ret_1D_close\", universe, \"my_first_strat\", model_parameters, path_model)"
      ]
    },
    {
      "cell_type": "markdown",
      "metadata": {
        "id": "ShKIAA0e06We"
      },
      "source": [
        "# Backtesting part (once the ML model is trained)"
      ]
    },
    {
      "cell_type": "code",
      "execution_count": 19,
      "metadata": {
        "id": "RqXTFM61fHmX"
      },
      "outputs": [],
      "source": [
        "start_ts_backtest = datetime(2015, 7, 5)\n",
        "end_ts_backtest = datetime(2017, 6, 28)"
      ]
    },
    {
      "cell_type": "markdown",
      "metadata": {
        "id": "PnZfmvirezVo"
      },
      "source": [
        "## 1. Predictions with LSTM models on the backtest period\n",
        "First, we need to retrieve the predictions of all LSTM on the stocks present in the universe on the trading period. We made the predictions before because the predict method is very time consuming so we can't make prediction quote by quote directly in the backtester."
      ]
    },
    {
      "cell_type": "code",
      "execution_count": 20,
      "metadata": {
        "id": "loOnkjSOa_HH"
      },
      "outputs": [],
      "source": [
        "def predict_from_trained_models(lstm_dict: Dict[str, LongShortTermMemory], data: pd.DataFrame, label: pd.Series,\n",
        "                                start_date: datetime, end_date: datetime, n_steps: int, feature: str):\n",
        "  res = {}\n",
        "  for symbol, lstm in lstm_dict.items():\n",
        "    # Retrieve relevant data\n",
        "    series = data[data.index.get_level_values(\"symbol\") == symbol][feature].loc[start_date:end_date]\n",
        "    # Retrieve the range of prediction dates\n",
        "    predict_dates = [date[0] for date in series.loc[series.index[n_steps][0]:].index]\n",
        "    y = label_fit[label_fit.index.get_level_values(\"symbol\") == symbol].loc[start_date:end_date]\n",
        "    # Create observations composed of sequences\n",
        "    testX,  testY = LongShortTermMemory.create_samples(series.values, y.values, n_steps)\n",
        "    testX = testX.reshape((testX.shape[0], testX.shape[1], 1))\n",
        "    # Predict\n",
        "    y_pred = lstm.predict(testX)\n",
        "    tmp = {date:pred[0] for date, pred in zip(predict_dates, y_pred)}\n",
        "    res[symbol] = tmp\n",
        "  return res"
      ]
    },
    {
      "cell_type": "code",
      "execution_count": 21,
      "metadata": {
        "colab": {
          "base_uri": "https://localhost:8080/"
        },
        "id": "XJvERMeiC8lg",
        "outputId": "62163f76-9c58-44b7-e427-f4c92d3ca4b6"
      },
      "outputs": [
        {
          "name": "stdout",
          "output_type": "stream",
          "text": [
            "9/9 [==============================] - 1s 12ms/step\n",
            "9/9 [==============================] - 1s 14ms/step\n",
            "9/9 [==============================] - 1s 12ms/step\n",
            "9/9 [==============================] - 1s 11ms/step\n",
            "9/9 [==============================] - 0s 12ms/step\n",
            "9/9 [==============================] - 1s 11ms/step\n",
            "9/9 [==============================] - 1s 11ms/step\n",
            "9/9 [==============================] - 1s 12ms/step\n",
            "9/9 [==============================] - 1s 11ms/step\n",
            "9/9 [==============================] - 1s 11ms/step\n",
            "9/9 [==============================] - 1s 11ms/step\n",
            "9/9 [==============================] - 1s 10ms/step\n",
            "9/9 [==============================] - 1s 11ms/step\n",
            "9/9 [==============================] - 0s 13ms/step\n",
            "9/9 [==============================] - 0s 11ms/step\n",
            "9/9 [==============================] - 0s 10ms/step\n",
            "9/9 [==============================] - 0s 10ms/step\n",
            "9/9 [==============================] - 1s 12ms/step\n",
            "9/9 [==============================] - 1s 11ms/step\n",
            "9/9 [==============================] - 1s 11ms/step\n",
            "9/9 [==============================] - 1s 10ms/step\n",
            "9/9 [==============================] - 1s 11ms/step\n",
            "9/9 [==============================] - 0s 11ms/step\n",
            "9/9 [==============================] - 1s 10ms/step\n",
            "9/9 [==============================] - 0s 12ms/step\n",
            "9/9 [==============================] - 0s 11ms/step\n",
            "9/9 [==============================] - 1s 12ms/step\n",
            "9/9 [==============================] - 0s 11ms/step\n"
          ]
        }
      ],
      "source": [
        "pred_dict = predict_from_trained_models(lstm_dict=lstm_dict, data=data, label=label_fit, start_date=start_ts_backtest, \n",
        "                                        end_date=end_ts_backtest, n_steps=240, feature=\"past_ret_1D_close\")\n",
        "                                        "
      ]
    },
    {
      "cell_type": "markdown",
      "metadata": {
        "id": "G3CK85Lq06Wg"
      },
      "source": [
        "## 2. Declare and Instanciate useful backtesting objects"
      ]
    },
    {
      "cell_type": "markdown",
      "metadata": {
        "id": "6s9Q7T9q06Wf"
      },
      "source": [
        "### Df to quote list | config | Backtester"
      ]
    },
    {
      "cell_type": "code",
      "execution_count": 22,
      "metadata": {
        "id": "FP6K5nsN06Wg"
      },
      "outputs": [],
      "source": [
        "quote_list = DataImportfromYf.data_to_quote_list(data)"
      ]
    },
    {
      "cell_type": "code",
      "execution_count": 23,
      "metadata": {
        "id": "4bh13qJR06Wg"
      },
      "outputs": [],
      "source": [
        "model_prm = {}\n",
        "config = Config(universe=universe, strategy_code=\"my_first_strat\", frequency=Frequency.DAILY, \n",
        "                model_parameters=model_parameters, quote_list=quote_list, \n",
        "                start_ts_backtest=start_ts_backtest, end_ts_backtest=end_ts_backtest)"
      ]
    },
    {
      "cell_type": "code",
      "execution_count": 24,
      "metadata": {
        "id": "0_4QuQnJ06Wh"
      },
      "outputs": [],
      "source": [
        "# We pass to the backtester the predictions made by all LSTM\n",
        "backtester = Backtester(config=config, quote_list=quote_list, ml_predictions=pred_dict)"
      ]
    },
    {
      "cell_type": "markdown",
      "metadata": {
        "id": "RqsO-eIlhbev"
      },
      "source": [
        "## 3. Run the backtest on the trading period"
      ]
    },
    {
      "cell_type": "code",
      "execution_count": 25,
      "metadata": {
        "id": "RtaeY279idDH"
      },
      "outputs": [],
      "source": [
        "# Run time between 10 and 30s (it depends on the length of the trading period)\n",
        "perfs = backtester.run_backtest()"
      ]
    },
    {
      "cell_type": "code",
      "execution_count": 26,
      "metadata": {
        "colab": {
          "base_uri": "https://localhost:8080/",
          "height": 295
        },
        "id": "TK4896CCFEay",
        "outputId": "5ced0777-8856-4594-a70d-c577e8f3547f"
      },
      "outputs": [
        {
          "data": {
            "image/png": "[encoded data removed]",
            "text/plain": [
              "<Figure size 640x480 with 1 Axes>"
            ]
          },
          "metadata": {},
          "output_type": "display_data"
        }
      ],
      "source": [
        "# Cumulative returns\n",
        "plt.plot(np.cumsum(perfs))\n",
        "plt.title(\"Cumulative returns of the LSTM based Ptf\")\n",
        "plt.xlabel(\"Dates\")\n",
        "plt.ylabel(\"Rp\")\n",
        "plt.show()"
      ]
    },
    {
      "cell_type": "code",
      "execution_count": 27,
      "metadata": {
        "id": "_8eb9OxvJgvg"
      },
      "outputs": [],
      "source": [
        "# Compounded return\n",
        "tmp_ret = [(1 + x) for x in perfs]\n",
        "compounded_ret = np.cumprod(tmp_ret)"
      ]
    },
    {
      "cell_type": "code",
      "execution_count": 28,
      "metadata": {
        "colab": {
          "base_uri": "https://localhost:8080/",
          "height": 295
        },
        "id": "PBZuJ4apJVKh",
        "outputId": "c3dbc65b-c453-4ebb-f4ff-9a6315aa03d3"
      },
      "outputs": [
        {
          "data": {
            "image/png": "[encoded data removed]",
            "text/plain": [
              "<Figure size 640x480 with 1 Axes>"
            ]
          },
          "metadata": {},
          "output_type": "display_data"
        }
      ],
      "source": [
        "plt.plot(compounded_ret)\n",
        "plt.title(\"Compounded return of the LSTM based Ptf\")\n",
        "plt.xlabel(\"Dates\")\n",
        "plt.ylabel(\"Rp\")\n",
        "plt.show()"
      ]
    }
  ],
  "metadata": {
    "accelerator": "GPU",
    "colab": {
      "provenance": []
    },
    "gpuClass": "premium",
    "kernelspec": {
      "display_name": "Python 3",
      "language": "python",
      "name": "python3"
    },
    "language_info": {
      "codemirror_mode": {
        "name": "ipython",
        "version": 3
      },
      "file_extension": ".py",
      "mimetype": "text/x-python",
      "name": "python",
      "nbconvert_exporter": "python",
      "pygments_lexer": "ipython3",
      "version": "3.8.10"
    },
    "orig_nbformat": 4,
    "vscode": {
      "interpreter": {
        "hash": "916dbcbb3f70747c44a77c7bcd40155683ae19c65e1c03b4aa3499c5328201f1"
      }
    }
  },
  "nbformat": 4,
  "nbformat_minor": 0
}
