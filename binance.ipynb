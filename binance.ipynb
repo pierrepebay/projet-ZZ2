{
 "cells": [
  {
   "cell_type": "code",
   "execution_count": 1,
   "metadata": {},
   "outputs": [],
   "source": [
    "# backtest d'une strategie de trading utilisant les moyennes mobiles comme indicateurs technique"
   ]
  },
  {
   "cell_type": "code",
   "execution_count": 4,
   "metadata": {},
   "outputs": [
    {
     "name": "stdout",
     "output_type": "stream",
     "text": [
      "Defaulting to user installation because normal site-packages is not writeable\n",
      "Requirement already satisfied: python-binance in /home/ibenchek/.local/lib/python3.8/site-packages (1.0.16)\n",
      "Requirement already satisfied: requests in /usr/lib/python3/dist-packages (from python-binance) (2.22.0)\n",
      "Requirement already satisfied: dateparser in /home/ibenchek/.local/lib/python3.8/site-packages (from python-binance) (1.1.4)\n",
      "Requirement already satisfied: websockets in /home/ibenchek/.local/lib/python3.8/site-packages (from python-binance) (10.4)\n",
      "Requirement already satisfied: aiohttp in /home/ibenchek/.local/lib/python3.8/site-packages (from python-binance) (3.8.3)\n",
      "Requirement already satisfied: ujson in /home/ibenchek/.local/lib/python3.8/site-packages (from python-binance) (5.6.0)\n",
      "Requirement already satisfied: six in /usr/lib/python3/dist-packages (from python-binance) (1.14.0)\n",
      "Requirement already satisfied: attrs>=17.3.0 in /usr/lib/python3/dist-packages (from aiohttp->python-binance) (19.3.0)\n",
      "Requirement already satisfied: yarl<2.0,>=1.0 in /home/ibenchek/.local/lib/python3.8/site-packages (from aiohttp->python-binance) (1.8.2)\n",
      "Requirement already satisfied: aiosignal>=1.1.2 in /home/ibenchek/.local/lib/python3.8/site-packages (from aiohttp->python-binance) (1.3.1)\n",
      "Requirement already satisfied: async-timeout<5.0,>=4.0.0a3 in /home/ibenchek/.local/lib/python3.8/site-packages (from aiohttp->python-binance) (4.0.2)\n",
      "Requirement already satisfied: multidict<7.0,>=4.5 in /home/ibenchek/.local/lib/python3.8/site-packages (from aiohttp->python-binance) (6.0.3)\n",
      "Requirement already satisfied: frozenlist>=1.1.1 in /home/ibenchek/.local/lib/python3.8/site-packages (from aiohttp->python-binance) (1.3.3)\n",
      "Requirement already satisfied: charset-normalizer<3.0,>=2.0 in /home/ibenchek/.local/lib/python3.8/site-packages (from aiohttp->python-binance) (2.1.1)\n",
      "Requirement already satisfied: regex!=2019.02.19,!=2021.8.27 in /home/ibenchek/.local/lib/python3.8/site-packages (from dateparser->python-binance) (2022.10.31)\n",
      "Requirement already satisfied: tzlocal in /home/ibenchek/.local/lib/python3.8/site-packages (from dateparser->python-binance) (4.2)\n",
      "Requirement already satisfied: pytz in /home/ibenchek/.local/lib/python3.8/site-packages (from dateparser->python-binance) (2022.6)\n",
      "Requirement already satisfied: python-dateutil in /home/ibenchek/.local/lib/python3.8/site-packages (from dateparser->python-binance) (2.8.2)\n",
      "Requirement already satisfied: idna>=2.0 in /usr/lib/python3/dist-packages (from yarl<2.0,>=1.0->aiohttp->python-binance) (2.8)\n",
      "Requirement already satisfied: pytz-deprecation-shim in /home/ibenchek/.local/lib/python3.8/site-packages (from tzlocal->dateparser->python-binance) (0.1.0.post0)\n",
      "Requirement already satisfied: backports.zoneinfo in /home/ibenchek/.local/lib/python3.8/site-packages (from tzlocal->dateparser->python-binance) (0.2.1)\n",
      "Requirement already satisfied: tzdata in /home/ibenchek/.local/lib/python3.8/site-packages (from pytz-deprecation-shim->tzlocal->dateparser->python-binance) (2022.7)\n",
      "Note: you may need to restart the kernel to use updated packages.\n"
     ]
    }
   ],
   "source": [
    "pip install python-binance"
   ]
  },
  {
   "cell_type": "code",
   "execution_count": 3,
   "metadata": {},
   "outputs": [
    {
     "name": "stdout",
     "output_type": "stream",
     "text": [
      "Defaulting to user installation because normal site-packages is not writeable\n",
      "Requirement already satisfied: ta in /home/ibenchek/.local/lib/python3.8/site-packages (0.10.2)\n",
      "Requirement already satisfied: numpy in /home/ibenchek/.local/lib/python3.8/site-packages (from ta) (1.23.5)\n",
      "Requirement already satisfied: pandas in /home/ibenchek/.local/lib/python3.8/site-packages (from ta) (1.5.2)\n",
      "Requirement already satisfied: python-dateutil>=2.8.1 in /home/ibenchek/.local/lib/python3.8/site-packages (from pandas->ta) (2.8.2)\n",
      "Requirement already satisfied: pytz>=2020.1 in /home/ibenchek/.local/lib/python3.8/site-packages (from pandas->ta) (2022.6)\n",
      "Requirement already satisfied: six>=1.5 in /usr/lib/python3/dist-packages (from python-dateutil>=2.8.1->pandas->ta) (1.14.0)\n",
      "Note: you may need to restart the kernel to use updated packages.\n"
     ]
    }
   ],
   "source": [
    "pip install ta"
   ]
  },
  {
   "cell_type": "code",
   "execution_count": 57,
   "metadata": {},
   "outputs": [],
   "source": [
    "# Import des libraries necessaire\n",
    "\n",
    "import pandas as pd\n",
    "from binance.client import Client\n",
    "import ta"
   ]
  },
  {
   "cell_type": "code",
   "execution_count": 58,
   "metadata": {},
   "outputs": [],
   "source": [
    "# Importer la dataFrame\n",
    "historicalData = Client().get_historical_klines(\"BTCUSDT\",Client.KLINE_INTERVAL_1HOUR,\"01 January 2017\")\n",
    "data = pd.DataFrame(historicalData, columns = ['timestamp', 'open','high','low','close','volume','close_time','quote_av','trades','tb_base_av','tb_quote_av','ignore'])"
   ]
  },
  {
   "cell_type": "code",
   "execution_count": 60,
   "metadata": {},
   "outputs": [
    {
     "data": {
      "text/html": [
       "<div>\n",
       "<style scoped>\n",
       "    .dataframe tbody tr th:only-of-type {\n",
       "        vertical-align: middle;\n",
       "    }\n",
       "\n",
       "    .dataframe tbody tr th {\n",
       "        vertical-align: top;\n",
       "    }\n",
       "\n",
       "    .dataframe thead th {\n",
       "        text-align: right;\n",
       "    }\n",
       "</style>\n",
       "<table border=\"1\" class=\"dataframe\">\n",
       "  <thead>\n",
       "    <tr style=\"text-align: right;\">\n",
       "      <th></th>\n",
       "      <th>close</th>\n",
       "      <th>SMA200</th>\n",
       "      <th>SMA600</th>\n",
       "    </tr>\n",
       "    <tr>\n",
       "      <th>timestamp</th>\n",
       "      <th></th>\n",
       "      <th></th>\n",
       "      <th></th>\n",
       "    </tr>\n",
       "  </thead>\n",
       "  <tbody>\n",
       "    <tr>\n",
       "      <th>2017-08-17 04:00:00</th>\n",
       "      <td>4308.83</td>\n",
       "      <td>NaN</td>\n",
       "      <td>NaN</td>\n",
       "    </tr>\n",
       "    <tr>\n",
       "      <th>2017-08-17 05:00:00</th>\n",
       "      <td>4315.32</td>\n",
       "      <td>NaN</td>\n",
       "      <td>NaN</td>\n",
       "    </tr>\n",
       "    <tr>\n",
       "      <th>2017-08-17 06:00:00</th>\n",
       "      <td>4324.35</td>\n",
       "      <td>NaN</td>\n",
       "      <td>NaN</td>\n",
       "    </tr>\n",
       "    <tr>\n",
       "      <th>2017-08-17 07:00:00</th>\n",
       "      <td>4349.99</td>\n",
       "      <td>NaN</td>\n",
       "      <td>NaN</td>\n",
       "    </tr>\n",
       "    <tr>\n",
       "      <th>2017-08-17 08:00:00</th>\n",
       "      <td>4360.69</td>\n",
       "      <td>NaN</td>\n",
       "      <td>NaN</td>\n",
       "    </tr>\n",
       "  </tbody>\n",
       "</table>\n",
       "</div>"
      ],
      "text/plain": [
       "                       close  SMA200  SMA600\n",
       "timestamp                                   \n",
       "2017-08-17 04:00:00  4308.83     NaN     NaN\n",
       "2017-08-17 05:00:00  4315.32     NaN     NaN\n",
       "2017-08-17 06:00:00  4324.35     NaN     NaN\n",
       "2017-08-17 07:00:00  4349.99     NaN     NaN\n",
       "2017-08-17 08:00:00  4360.69     NaN     NaN"
      ]
     },
     "execution_count": 60,
     "metadata": {},
     "output_type": "execute_result"
    }
   ],
   "source": [
    "# Selectionner les donnees à utiliser \n",
    "data['close'] = pd.to_numeric(data['close'])\n",
    "data['SMA200'] = ta.trend.sma_indicator(data['close'], 200)\n",
    "data['SMA600'] = ta.trend.sma_indicator(data['close'], 600)\n",
    "\n",
    "# Utiliser le Timestamp comme index\n",
    "data_used = data[['close','SMA200', 'SMA600']].set_index(data['timestamp'])\n",
    "data_used.index = pd.to_datetime(data_used.index, unit = 'ms')\n",
    "data_used.head()"
   ]
  },
  {
   "cell_type": "code",
   "execution_count": 62,
   "metadata": {},
   "outputs": [
    {
     "name": "stdout",
     "output_type": "stream",
     "text": [
      "Acheter le bitcoin a 4176.24 $ Le 2017-09-11 10:00:00\n",
      "Vendre le bitcoin a 4259.44 $ Le 2017-09-12 13:00:00\n",
      "Acheter le bitcoin a 4302.02 $ Le 2017-10-01 08:00:00\n",
      "Vendre le bitcoin a 16351.02 $ Le 2017-12-27 05:00:00\n",
      "Acheter le bitcoin a 14219.61 $ Le 2018-01-10 06:00:00\n",
      "Vendre le bitcoin a 14195.0 $ Le 2018-01-15 12:00:00\n",
      "Acheter le bitcoin a 11082.94 $ Le 2018-02-19 18:00:00\n",
      "Vendre le bitcoin a 8704.0 $ Le 2018-03-11 07:00:00\n",
      "Acheter le bitcoin a 8018.98 $ Le 2018-04-16 21:00:00\n",
      "Vendre le bitcoin a 8665.97 $ Le 2018-05-14 00:00:00\n",
      "Acheter le bitcoin a 6584.36 $ Le 2018-07-07 10:00:00\n",
      "Vendre le bitcoin a 7087.99 $ Le 2018-08-07 11:00:00\n",
      "Acheter le bitcoin a 6902.74 $ Le 2018-08-28 04:00:00\n",
      "Vendre le bitcoin a 6355.0 $ Le 2018-09-11 03:00:00\n",
      "Acheter le bitcoin a 6669.36 $ Le 2018-09-27 19:00:00\n",
      "Vendre le bitcoin a 6309.02 $ Le 2018-10-12 22:00:00\n",
      "Acheter le bitcoin a 6573.58 $ Le 2018-10-20 10:00:00\n",
      "Vendre le bitcoin a 6491.85 $ Le 2018-10-28 10:00:00\n",
      "Acheter le bitcoin a 4125.4 $ Le 2018-12-24 04:00:00\n",
      "Vendre le bitcoin a 3588.24 $ Le 2019-01-13 02:00:00\n",
      "Acheter le bitcoin a 3626.58 $ Le 2019-02-12 04:00:00\n",
      "Vendre le bitcoin a 7660.98 $ Le 2019-06-09 18:00:00\n",
      "Acheter le bitcoin a 9105.21 $ Le 2019-06-17 06:00:00\n",
      "Vendre le bitcoin a 9431.52 $ Le 2019-07-17 04:00:00\n",
      "Acheter le bitcoin a 11692.8 $ Le 2019-08-06 01:00:00\n",
      "Vendre le bitcoin a 10886.0 $ Le 2019-08-20 01:00:00\n",
      "Acheter le bitcoin a 10541.4 $ Le 2019-09-08 03:00:00\n",
      "Vendre le bitcoin a 10028.87 $ Le 2019-09-22 23:00:00\n",
      "Acheter le bitcoin a 9660.0 $ Le 2019-10-27 17:00:00\n",
      "Vendre le bitcoin a 8564.64 $ Le 2019-11-15 05:00:00\n",
      "Acheter le bitcoin a 7206.3 $ Le 2019-12-27 00:00:00\n",
      "Vendre le bitcoin a 9601.09 $ Le 2020-02-24 19:00:00\n",
      "Acheter le bitcoin a 6368.68 $ Le 2020-04-01 03:00:00\n",
      "Vendre le bitcoin a 8859.62 $ Le 2020-05-27 04:00:00\n",
      "Acheter le bitcoin a 10115.56 $ Le 2020-06-02 11:00:00\n",
      "Vendre le bitcoin a 9403.01 $ Le 2020-06-18 13:00:00\n",
      "Acheter le bitcoin a 9290.23 $ Le 2020-07-13 18:00:00\n",
      "Vendre le bitcoin a 9117.69 $ Le 2020-07-17 10:00:00\n",
      "Acheter le bitcoin a 9164.57 $ Le 2020-07-18 16:00:00\n",
      "Vendre le bitcoin a 11400.12 $ Le 2020-08-27 01:00:00\n",
      "Acheter le bitcoin a 10417.22 $ Le 2020-09-21 23:00:00\n",
      "Vendre le bitcoin a 10571.36 $ Le 2020-10-06 19:00:00\n",
      "Acheter le bitcoin a 11363.33 $ Le 2020-10-10 18:00:00\n",
      "Vendre le bitcoin a 32801.15 $ Le 2021-01-24 07:00:00\n",
      "Acheter le bitcoin a 37366.02 $ Le 2021-02-05 03:00:00\n",
      "Vendre le bitcoin a 47789.87 $ Le 2021-03-02 22:00:00\n",
      "Acheter le bitcoin a 54632.79 $ Le 2021-03-10 08:00:00\n",
      "Vendre le bitcoin a 57854.32 $ Le 2021-03-29 11:00:00\n",
      "Acheter le bitcoin a 58670.64 $ Le 2021-04-02 20:00:00\n",
      "Vendre le bitcoin a 54744.24 $ Le 2021-04-22 14:00:00\n",
      "Acheter le bitcoin a 57584.01 $ Le 2021-05-07 19:00:00\n",
      "Vendre le bitcoin a 47964.69 $ Le 2021-05-15 22:00:00\n",
      "Acheter le bitcoin a 39952.7 $ Le 2021-06-16 09:00:00\n",
      "Vendre le bitcoin a 33982.26 $ Le 2021-06-23 07:00:00\n",
      "Acheter le bitcoin a 38242.96 $ Le 2021-07-27 14:00:00\n",
      "Vendre le bitcoin a 45150.33 $ Le 2021-09-12 06:00:00\n",
      "Acheter le bitcoin a 49476.51 $ Le 2021-10-05 07:00:00\n",
      "Vendre le bitcoin a 56989.77 $ Le 2021-11-19 09:00:00\n",
      "Acheter le bitcoin a 51450.57 $ Le 2021-12-27 15:00:00\n",
      "Vendre le bitcoin a 46999.98 $ Le 2022-01-03 02:00:00\n",
      "Acheter le bitcoin a 44065.25 $ Le 2022-02-07 18:00:00\n",
      "Vendre le bitcoin a 38137.91 $ Le 2022-02-23 00:00:00\n",
      "Acheter le bitcoin a 39387.57 $ Le 2022-03-06 07:00:00\n",
      "Vendre le bitcoin a 39316.99 $ Le 2022-03-10 21:00:00\n",
      "Acheter le bitcoin a 41062.31 $ Le 2022-03-17 05:00:00\n",
      "Vendre le bitcoin a 40776.38 $ Le 2022-03-17 17:00:00\n",
      "Acheter le bitcoin a 42191.28 $ Le 2022-03-19 20:00:00\n",
      "Vendre le bitcoin a 40803.87 $ Le 2022-04-11 14:00:00\n",
      "Acheter le bitcoin a 30425.0 $ Le 2022-06-03 04:00:00\n",
      "Vendre le bitcoin a 27932.6 $ Le 2022-06-12 16:00:00\n",
      "Acheter le bitcoin a 20987.27 $ Le 2022-07-10 20:00:00\n",
      "Vendre le bitcoin a 21229.52 $ Le 2022-08-21 05:00:00\n",
      "Acheter le bitcoin a 20246.35 $ Le 2022-09-13 18:00:00\n",
      "Vendre le bitcoin a 18766.83 $ Le 2022-09-20 17:00:00\n",
      "Acheter le bitcoin a 19973.75 $ Le 2022-10-07 08:00:00\n",
      "Vendre le bitcoin a 19187.86 $ Le 2022-10-15 04:00:00\n",
      "Acheter le bitcoin a 20719.26 $ Le 2022-10-27 06:00:00\n",
      "Vendre le bitcoin a 18108.48 $ Le 2022-11-10 20:00:00\n",
      "Acheter le bitcoin a 16934.23 $ Le 2022-12-03 20:00:00\n",
      "Vendre le bitcoin a 16591.96 $ Le 2022-12-22 17:00:00\n"
     ]
    }
   ],
   "source": [
    "# Commencer a 1000 USDT et 0 BTC\n",
    "\n",
    "usdt = 1000\n",
    "btc = 0\n",
    "lastIndex = data_used.first_valid_index()\n",
    "\n",
    "for index, row in data_used.iterrows() :\n",
    "    # Acheter quand la SMA_200 est superieur à la SMA_600\n",
    "    if data_used['SMA200'][lastIndex] > data_used['SMA600'][lastIndex] and usdt > 10 :\n",
    "        btc = usdt / data_used['close'][index]\n",
    "        btc = btc - 0.0007 * btc  \n",
    "        usdt = 0\n",
    "        \n",
    "        print(\"Acheter le bitcoin a\", data_used['close'][index],'$ Le', index)\n",
    "\n",
    "    # Vendre quand la SMA_200 est inferieur à la SMA_600    \n",
    "    if data_used['SMA200'][lastIndex] < data_used['SMA600'][lastIndex] and btc > 0.0001 :\n",
    "        usdt = btc * data_used['close'][index]\n",
    "        usdt = usdt - 0.0007 * usdt \n",
    "        btc = 0\n",
    "        \n",
    "        print(\"Vendre le bitcoin a\", data_used['close'][index],'$ Le', index)\n",
    "    \n",
    "    lastIndex = index"
   ]
  },
  {
   "cell_type": "code",
   "execution_count": 63,
   "metadata": {},
   "outputs": [
    {
     "name": "stdout",
     "output_type": "stream",
     "text": [
      "Resultat Finale 17302.470145622377 USDT\n"
     ]
    }
   ],
   "source": [
    "finalResult = usdt + btc * data_used['close'].iloc[-1] \n",
    "print(\"Resultat Finale\",finalResult,'USDT')"
   ]
  },
  {
   "cell_type": "code",
   "execution_count": 64,
   "metadata": {},
   "outputs": [
    {
     "name": "stdout",
     "output_type": "stream",
     "text": [
      "acheter a la premiere date et vendre a la derniere date 3836.677241849876 USDT\n"
     ]
    }
   ],
   "source": [
    "print(\"acheter a la premiere date et vendre a la derniere date\", (1000 / data_used['close'].iloc[0]) * data_used['close'].iloc[-1],'USDT')"
   ]
  }
 ],
 "metadata": {
  "kernelspec": {
   "display_name": "Python 3",
   "language": "python",
   "name": "python3"
  },
  "language_info": {
   "codemirror_mode": {
    "name": "ipython",
    "version": 3
   },
   "file_extension": ".py",
   "mimetype": "text/x-python",
   "name": "python",
   "nbconvert_exporter": "python",
   "pygments_lexer": "ipython3",
   "version": "3.8.10"
  },
  "orig_nbformat": 4,
  "vscode": {
   "interpreter": {
    "hash": "916dbcbb3f70747c44a77c7bcd40155683ae19c65e1c03b4aa3499c5328201f1"
   }
  }
 },
 "nbformat": 4,
 "nbformat_minor": 2
}
